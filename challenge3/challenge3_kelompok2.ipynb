{
 "cells": [
  {
   "cell_type": "markdown",
   "metadata": {},
   "source": [
    "# Data Understanding & Data Preparation"
   ]
  },
  {
   "cell_type": "markdown",
   "metadata": {},
   "source": [
    "## Import library dan dataset"
   ]
  },
  {
   "cell_type": "code",
   "execution_count": 6,
   "metadata": {
    "id": "Wf8iqyF249i4"
   },
   "outputs": [],
   "source": [
    "import pandas as pd\n",
    "import numpy as np\n",
    "import matplotlib.pyplot as plt"
   ]
  },
  {
   "cell_type": "code",
   "execution_count": 10,
   "metadata": {
    "id": "1xKI9VnS49i8"
   },
   "outputs": [],
   "source": [
    "gojek = pd.read_csv('sample_data/gojek.csv', parse_dates=True)\n",
    "covid = pd.read_csv('sample_data/covid19.csv', parse_dates=True)"
   ]
  },
  {
   "cell_type": "code",
   "execution_count": 11,
   "metadata": {
    "colab": {
     "base_uri": "https://localhost:8080/",
     "height": 564
    },
    "id": "p84HeSaY49i_",
    "outputId": "b831bf76-4bd5-4e20-9c69-ef1902079781",
    "scrolled": true
   },
   "outputs": [
    {
     "data": {
      "text/html": [
       "<div>\n",
       "<style scoped>\n",
       "    .dataframe tbody tr th:only-of-type {\n",
       "        vertical-align: middle;\n",
       "    }\n",
       "\n",
       "    .dataframe tbody tr th {\n",
       "        vertical-align: top;\n",
       "    }\n",
       "\n",
       "    .dataframe thead th {\n",
       "        text-align: right;\n",
       "    }\n",
       "</style>\n",
       "<table border=\"1\" class=\"dataframe\">\n",
       "  <thead>\n",
       "    <tr style=\"text-align: right;\">\n",
       "      <th></th>\n",
       "      <th>_id</th>\n",
       "      <th>id</th>\n",
       "      <th>date_order</th>\n",
       "      <th>date_finished</th>\n",
       "      <th>mode</th>\n",
       "      <th>from_alamat</th>\n",
       "      <th>from_kelurahan</th>\n",
       "      <th>from_kecamatan</th>\n",
       "      <th>from_lat</th>\n",
       "      <th>from_lng</th>\n",
       "      <th>to_alamat</th>\n",
       "      <th>to_kelurahan</th>\n",
       "      <th>to_kecamatan</th>\n",
       "      <th>to_lat</th>\n",
       "      <th>to_lng</th>\n",
       "      <th>distance</th>\n",
       "      <th>amount_delivery</th>\n",
       "      <th>amount_merchant</th>\n",
       "      <th>transaction_amount_total</th>\n",
       "      <th>customer_id</th>\n",
       "      <th>customer_name</th>\n",
       "      <th>customer_gender</th>\n",
       "      <th>customer_birthdate</th>\n",
       "      <th>driver_id</th>\n",
       "      <th>driver_name</th>\n",
       "      <th>driver_gender</th>\n",
       "      <th>driver_birthdate</th>\n",
       "      <th>kendaraan_jenis</th>\n",
       "      <th>kendaraan_merk</th>\n",
       "      <th>merchant_id</th>\n",
       "      <th>merchant_name</th>\n",
       "      <th>merchant_category</th>\n",
       "    </tr>\n",
       "  </thead>\n",
       "  <tbody>\n",
       "    <tr>\n",
       "      <th>0</th>\n",
       "      <td>1</td>\n",
       "      <td>1617</td>\n",
       "      <td>09/03/2019 20.45</td>\n",
       "      <td>09/03/2019 22.05</td>\n",
       "      <td>BIKE</td>\n",
       "      <td>Gang Ikhwan No.16,  Sungai Jawi</td>\n",
       "      <td>DARAT SEKIP</td>\n",
       "      <td>PONTIANAK KOTA</td>\n",
       "      <td>-0,0303277</td>\n",
       "      <td>109,297753</td>\n",
       "      <td>Jl. Prof. M.Yamin No.3a,  Sungai Bangkong</td>\n",
       "      <td>BENUA MELAYU LAUT</td>\n",
       "      <td>PONTIANAK SELATAN</td>\n",
       "      <td>-0,061345224</td>\n",
       "      <td>109,305406</td>\n",
       "      <td>5,55</td>\n",
       "      <td>2500</td>\n",
       "      <td>0</td>\n",
       "      <td>2500</td>\n",
       "      <td>67</td>\n",
       "      <td>Dian Aryani</td>\n",
       "      <td>P</td>\n",
       "      <td>1994-02-05T00:00:00</td>\n",
       "      <td>90</td>\n",
       "      <td>Rusman Situmorang</td>\n",
       "      <td>L</td>\n",
       "      <td>1997-03-24T00:00:00</td>\n",
       "      <td>MOTOR</td>\n",
       "      <td>Yamaha</td>\n",
       "      <td>NaN</td>\n",
       "      <td>NaN</td>\n",
       "      <td>NaN</td>\n",
       "    </tr>\n",
       "    <tr>\n",
       "      <th>1</th>\n",
       "      <td>2</td>\n",
       "      <td>1297</td>\n",
       "      <td>09/03/2019 19.55</td>\n",
       "      <td>10/03/2019 01.38</td>\n",
       "      <td>FOOD</td>\n",
       "      <td>Neo Shabu-Shabu Steak &amp; Shake, Johar, Jl. Joha...</td>\n",
       "      <td>SUNGAI BANGKONG</td>\n",
       "      <td>PONTIANAK KOTA</td>\n",
       "      <td>-0,02861</td>\n",
       "      <td>109,329253</td>\n",
       "      <td>Jl. Dare Nandong Villa Ria Indah,  Tj. Hulu</td>\n",
       "      <td>BANJAR SERASAN</td>\n",
       "      <td>PONTIANAK TIMUR</td>\n",
       "      <td>-0,028571215</td>\n",
       "      <td>109,3749533</td>\n",
       "      <td>7,08</td>\n",
       "      <td>9000</td>\n",
       "      <td>82000</td>\n",
       "      <td>91000</td>\n",
       "      <td>55</td>\n",
       "      <td>Ajimin Aditya Pangestu</td>\n",
       "      <td>L</td>\n",
       "      <td>2004-04-22T00:00:00</td>\n",
       "      <td>77</td>\n",
       "      <td>Lukman Ganep Januar M.Ak</td>\n",
       "      <td>L</td>\n",
       "      <td>1976-07-26T00:00:00</td>\n",
       "      <td>MOTOR</td>\n",
       "      <td>BMW</td>\n",
       "      <td>93.0</td>\n",
       "      <td>Neo Shabu-Shabu Steak &amp; Shake, Johar</td>\n",
       "      <td>RESTAURANT</td>\n",
       "    </tr>\n",
       "    <tr>\n",
       "      <th>2</th>\n",
       "      <td>3</td>\n",
       "      <td>1394</td>\n",
       "      <td>09/03/2019 19.54</td>\n",
       "      <td>09/03/2019 21.44</td>\n",
       "      <td>SHOP</td>\n",
       "      <td>Alfamart Pontianak Mall, Jl Teuku Umar</td>\n",
       "      <td>DARAT SEKIP</td>\n",
       "      <td>PONTIANAK KOTA</td>\n",
       "      <td>-0,0301863</td>\n",
       "      <td>109,3356331</td>\n",
       "      <td>Gg. Gn. Malabar No.21,  Sungai Jawi</td>\n",
       "      <td>SUNGAI BELIUNG</td>\n",
       "      <td>PONTIANAK BARAT</td>\n",
       "      <td>-0,022623361</td>\n",
       "      <td>109,3191522</td>\n",
       "      <td>4,02</td>\n",
       "      <td>5000</td>\n",
       "      <td>58500</td>\n",
       "      <td>63500</td>\n",
       "      <td>68</td>\n",
       "      <td>Wahyu Simanjuntak</td>\n",
       "      <td>L</td>\n",
       "      <td>2000-01-07T00:00:00</td>\n",
       "      <td>75</td>\n",
       "      <td>Atma Dasa Uwais</td>\n",
       "      <td>L</td>\n",
       "      <td>1985-12-28T00:00:00</td>\n",
       "      <td>MOTOR</td>\n",
       "      <td>TVS</td>\n",
       "      <td>421.0</td>\n",
       "      <td>Alfamart Pontianak Mall</td>\n",
       "      <td>TOKO/SWALAYAN</td>\n",
       "    </tr>\n",
       "    <tr>\n",
       "      <th>3</th>\n",
       "      <td>4</td>\n",
       "      <td>1120</td>\n",
       "      <td>09/03/2019 18.56</td>\n",
       "      <td>10/03/2019 00.20</td>\n",
       "      <td>FOOD</td>\n",
       "      <td>Parklife, Jl. Karimata No.64, Sungai Bangkong,...</td>\n",
       "      <td>MARIANA</td>\n",
       "      <td>PONTIANAK KOTA</td>\n",
       "      <td>-0,0305815</td>\n",
       "      <td>109,3264009</td>\n",
       "      <td>Unnamed Road,  Pal IX</td>\n",
       "      <td>BANGKA BELITUNG DARAT</td>\n",
       "      <td>PONTIANAK TENGGARA</td>\n",
       "      <td>-0,063780195</td>\n",
       "      <td>109,273496</td>\n",
       "      <td>8,94</td>\n",
       "      <td>12000</td>\n",
       "      <td>72000</td>\n",
       "      <td>84000</td>\n",
       "      <td>8</td>\n",
       "      <td>Argono Daru Tarihoran S.Sos</td>\n",
       "      <td>L</td>\n",
       "      <td>1987-08-02T00:00:00</td>\n",
       "      <td>82</td>\n",
       "      <td>Latif Marbun</td>\n",
       "      <td>L</td>\n",
       "      <td>1993-06-10T00:00:00</td>\n",
       "      <td>MOTOR</td>\n",
       "      <td>Suzuki</td>\n",
       "      <td>109.0</td>\n",
       "      <td>Parklife</td>\n",
       "      <td>CAFE</td>\n",
       "    </tr>\n",
       "    <tr>\n",
       "      <th>4</th>\n",
       "      <td>5</td>\n",
       "      <td>2053</td>\n",
       "      <td>09/03/2019 12.28</td>\n",
       "      <td>09/03/2019 17.11</td>\n",
       "      <td>CAR</td>\n",
       "      <td>Jl. Tabrani Ahmad No.12,  Sungai Jawi Dalam</td>\n",
       "      <td>PAL LIMA</td>\n",
       "      <td>PONTIANAK BARAT</td>\n",
       "      <td>-0,018461872</td>\n",
       "      <td>109,3075679</td>\n",
       "      <td>Pal IX,  Kakap River</td>\n",
       "      <td>BANSIR LAUT</td>\n",
       "      <td>PONTIANAK TENGGARA</td>\n",
       "      <td>-0,05923926</td>\n",
       "      <td>109,2731293</td>\n",
       "      <td>7,93</td>\n",
       "      <td>14400</td>\n",
       "      <td>0</td>\n",
       "      <td>14400</td>\n",
       "      <td>19</td>\n",
       "      <td>Oman Prasasta</td>\n",
       "      <td>L</td>\n",
       "      <td>2004-01-23T00:00:00</td>\n",
       "      <td>109</td>\n",
       "      <td>Maimunah Pudjiastuti</td>\n",
       "      <td>P</td>\n",
       "      <td>1988-05-02T00:00:00</td>\n",
       "      <td>MOBIL</td>\n",
       "      <td>Honda</td>\n",
       "      <td>NaN</td>\n",
       "      <td>NaN</td>\n",
       "      <td>NaN</td>\n",
       "    </tr>\n",
       "  </tbody>\n",
       "</table>\n",
       "</div>"
      ],
      "text/plain": [
       "   _id    id  ...                         merchant_name merchant_category\n",
       "0    1  1617  ...                                   NaN               NaN\n",
       "1    2  1297  ...  Neo Shabu-Shabu Steak & Shake, Johar        RESTAURANT\n",
       "2    3  1394  ...               Alfamart Pontianak Mall     TOKO/SWALAYAN\n",
       "3    4  1120  ...                              Parklife              CAFE\n",
       "4    5  2053  ...                                   NaN               NaN\n",
       "\n",
       "[5 rows x 32 columns]"
      ]
     },
     "execution_count": 11,
     "metadata": {
      "tags": []
     },
     "output_type": "execute_result"
    }
   ],
   "source": [
    "#melihat data gojek untuk 5 baris pertama\n",
    "gojek.head()"
   ]
  },
  {
   "cell_type": "markdown",
   "metadata": {},
   "source": [
    "## Preparing data Gojek"
   ]
  },
  {
   "cell_type": "code",
   "execution_count": 12,
   "metadata": {
    "colab": {
     "base_uri": "https://localhost:8080/",
     "height": 204
    },
    "id": "ntyqWG5k49jC",
    "outputId": "962fd7b1-45f2-47ff-f0c3-7f98a2ef50e3",
    "scrolled": true
   },
   "outputs": [
    {
     "data": {
      "text/html": [
       "<div>\n",
       "<style scoped>\n",
       "    .dataframe tbody tr th:only-of-type {\n",
       "        vertical-align: middle;\n",
       "    }\n",
       "\n",
       "    .dataframe tbody tr th {\n",
       "        vertical-align: top;\n",
       "    }\n",
       "\n",
       "    .dataframe thead th {\n",
       "        text-align: right;\n",
       "    }\n",
       "</style>\n",
       "<table border=\"1\" class=\"dataframe\">\n",
       "  <thead>\n",
       "    <tr style=\"text-align: right;\">\n",
       "      <th></th>\n",
       "      <th>date_order</th>\n",
       "      <th>mode</th>\n",
       "    </tr>\n",
       "  </thead>\n",
       "  <tbody>\n",
       "    <tr>\n",
       "      <th>0</th>\n",
       "      <td>09/03/2019 20.45</td>\n",
       "      <td>BIKE</td>\n",
       "    </tr>\n",
       "    <tr>\n",
       "      <th>1</th>\n",
       "      <td>09/03/2019 19.55</td>\n",
       "      <td>FOOD</td>\n",
       "    </tr>\n",
       "    <tr>\n",
       "      <th>2</th>\n",
       "      <td>09/03/2019 19.54</td>\n",
       "      <td>SHOP</td>\n",
       "    </tr>\n",
       "    <tr>\n",
       "      <th>3</th>\n",
       "      <td>09/03/2019 18.56</td>\n",
       "      <td>FOOD</td>\n",
       "    </tr>\n",
       "    <tr>\n",
       "      <th>4</th>\n",
       "      <td>09/03/2019 12.28</td>\n",
       "      <td>CAR</td>\n",
       "    </tr>\n",
       "  </tbody>\n",
       "</table>\n",
       "</div>"
      ],
      "text/plain": [
       "         date_order  mode\n",
       "0  09/03/2019 20.45  BIKE\n",
       "1  09/03/2019 19.55  FOOD\n",
       "2  09/03/2019 19.54  SHOP\n",
       "3  09/03/2019 18.56  FOOD\n",
       "4  09/03/2019 12.28   CAR"
      ]
     },
     "execution_count": 12,
     "metadata": {
      "tags": []
     },
     "output_type": "execute_result"
    }
   ],
   "source": [
    "#hanya memilih kolom date_order dan mode\n",
    "gojek = gojek[['date_order','mode']]\n",
    "gojek.head()"
   ]
  },
  {
   "cell_type": "code",
   "execution_count": 13,
   "metadata": {
    "colab": {
     "base_uri": "https://localhost:8080/",
     "height": 68
    },
    "id": "7qk3Y0kI49jF",
    "outputId": "e6e02367-22a6-435f-c20c-956b3f4bab0a",
    "scrolled": true
   },
   "outputs": [
    {
     "data": {
      "text/plain": [
       "date_order    object\n",
       "mode          object\n",
       "dtype: object"
      ]
     },
     "execution_count": 13,
     "metadata": {
      "tags": []
     },
     "output_type": "execute_result"
    }
   ],
   "source": [
    "#mengetahui tipe data\n",
    "gojek.dtypes"
   ]
  },
  {
   "cell_type": "code",
   "execution_count": 14,
   "metadata": {
    "colab": {
     "base_uri": "https://localhost:8080/",
     "height": 34
    },
    "id": "3PiSHsPV49jI",
    "outputId": "5978fca2-2756-42f9-f158-cac36330c755",
    "scrolled": true
   },
   "outputs": [
    {
     "data": {
      "text/plain": [
       "array(['BIKE', 'FOOD', 'SHOP', 'CAR'], dtype=object)"
      ]
     },
     "execution_count": 14,
     "metadata": {
      "tags": []
     },
     "output_type": "execute_result"
    }
   ],
   "source": [
    "#melihat jenis mode Gojek yang ada\n",
    "gojek['mode'].unique()"
   ]
  },
  {
   "cell_type": "code",
   "execution_count": 15,
   "metadata": {
    "colab": {
     "base_uri": "https://localhost:8080/",
     "height": 204
    },
    "id": "ABO91T8Z49jK",
    "outputId": "57020d7b-7ce0-42db-d1d8-6f04bd408b95",
    "scrolled": false
   },
   "outputs": [
    {
     "data": {
      "text/html": [
       "<div>\n",
       "<style scoped>\n",
       "    .dataframe tbody tr th:only-of-type {\n",
       "        vertical-align: middle;\n",
       "    }\n",
       "\n",
       "    .dataframe tbody tr th {\n",
       "        vertical-align: top;\n",
       "    }\n",
       "\n",
       "    .dataframe thead th {\n",
       "        text-align: right;\n",
       "    }\n",
       "</style>\n",
       "<table border=\"1\" class=\"dataframe\">\n",
       "  <thead>\n",
       "    <tr style=\"text-align: right;\">\n",
       "      <th></th>\n",
       "      <th>date_order</th>\n",
       "      <th>mode</th>\n",
       "    </tr>\n",
       "  </thead>\n",
       "  <tbody>\n",
       "    <tr>\n",
       "      <th>0</th>\n",
       "      <td>2019-03-09</td>\n",
       "      <td>BIKE</td>\n",
       "    </tr>\n",
       "    <tr>\n",
       "      <th>1</th>\n",
       "      <td>2019-03-09</td>\n",
       "      <td>FOOD</td>\n",
       "    </tr>\n",
       "    <tr>\n",
       "      <th>2</th>\n",
       "      <td>2019-03-09</td>\n",
       "      <td>SHOP</td>\n",
       "    </tr>\n",
       "    <tr>\n",
       "      <th>3</th>\n",
       "      <td>2019-03-09</td>\n",
       "      <td>FOOD</td>\n",
       "    </tr>\n",
       "    <tr>\n",
       "      <th>4</th>\n",
       "      <td>2019-03-09</td>\n",
       "      <td>CAR</td>\n",
       "    </tr>\n",
       "  </tbody>\n",
       "</table>\n",
       "</div>"
      ],
      "text/plain": [
       "   date_order  mode\n",
       "0  2019-03-09  BIKE\n",
       "1  2019-03-09  FOOD\n",
       "2  2019-03-09  SHOP\n",
       "3  2019-03-09  FOOD\n",
       "4  2019-03-09   CAR"
      ]
     },
     "execution_count": 15,
     "metadata": {
      "tags": []
     },
     "output_type": "execute_result"
    }
   ],
   "source": [
    "#merubah kolom date_order menjadi tipe datetime\n",
    "gojek['date_order'] = pd.to_datetime(gojek['date_order'].str.strip(), format='%d/%m/%Y %H.%M').dt.date\n",
    "gojek.head()"
   ]
  },
  {
   "cell_type": "code",
   "execution_count": 16,
   "metadata": {
    "id": "UOz4K-1h49jN"
   },
   "outputs": [],
   "source": [
    "#menambahkan kolom tiap mode dengan nilai 1 jika mode sesuai jenisnya\n",
    "gojek['bike'] = gojek['mode'].apply(lambda x: 1 if x == 'BIKE' else 0)\n",
    "gojek['food'] = gojek['mode'].apply(lambda x: 1 if x == 'FOOD' else 0)\n",
    "gojek['shop'] = gojek['mode'].apply(lambda x: 1 if x == 'SHOP' else 0)\n",
    "gojek['car'] = gojek['mode'].apply(lambda x: 1 if x == 'CAR' else 0)"
   ]
  },
  {
   "cell_type": "code",
   "execution_count": 17,
   "metadata": {
    "id": "WMkPUwG949jQ"
   },
   "outputs": [],
   "source": [
    "#menjumlahkan nilai kolom tiap mode berdasarkan tanggal ordernya\n",
    "gojek = gojek.groupby('date_order').sum().reset_index()\n",
    "gojek['total'] = gojek.bike + gojek.food + gojek.shop + gojek.car"
   ]
  },
  {
   "cell_type": "code",
   "execution_count": 18,
   "metadata": {
    "id": "TeYLB05B49jS"
   },
   "outputs": [],
   "source": [
    "#menambahkan kolom rate yang bernilai persentase perubahan nilai total order terhadap data di hari sebelumnya\n",
    "gojek['rate'] = gojek.total.pct_change()"
   ]
  },
  {
   "cell_type": "code",
   "execution_count": 19,
   "metadata": {
    "colab": {
     "base_uri": "https://localhost:8080/",
     "height": 204
    },
    "id": "CnEoq9tf49jV",
    "outputId": "e43c04f0-d801-4392-a7de-b70eb414b782",
    "scrolled": false
   },
   "outputs": [
    {
     "data": {
      "text/html": [
       "<div>\n",
       "<style scoped>\n",
       "    .dataframe tbody tr th:only-of-type {\n",
       "        vertical-align: middle;\n",
       "    }\n",
       "\n",
       "    .dataframe tbody tr th {\n",
       "        vertical-align: top;\n",
       "    }\n",
       "\n",
       "    .dataframe thead th {\n",
       "        text-align: right;\n",
       "    }\n",
       "</style>\n",
       "<table border=\"1\" class=\"dataframe\">\n",
       "  <thead>\n",
       "    <tr style=\"text-align: right;\">\n",
       "      <th></th>\n",
       "      <th>date_order</th>\n",
       "      <th>bike</th>\n",
       "      <th>food</th>\n",
       "      <th>shop</th>\n",
       "      <th>car</th>\n",
       "      <th>total</th>\n",
       "      <th>rate</th>\n",
       "    </tr>\n",
       "  </thead>\n",
       "  <tbody>\n",
       "    <tr>\n",
       "      <th>173</th>\n",
       "      <td>2019-03-05</td>\n",
       "      <td>1</td>\n",
       "      <td>1</td>\n",
       "      <td>0</td>\n",
       "      <td>1</td>\n",
       "      <td>3</td>\n",
       "      <td>-0.571429</td>\n",
       "    </tr>\n",
       "    <tr>\n",
       "      <th>174</th>\n",
       "      <td>2019-03-06</td>\n",
       "      <td>2</td>\n",
       "      <td>0</td>\n",
       "      <td>0</td>\n",
       "      <td>2</td>\n",
       "      <td>4</td>\n",
       "      <td>0.333333</td>\n",
       "    </tr>\n",
       "    <tr>\n",
       "      <th>175</th>\n",
       "      <td>2019-03-07</td>\n",
       "      <td>2</td>\n",
       "      <td>0</td>\n",
       "      <td>2</td>\n",
       "      <td>1</td>\n",
       "      <td>5</td>\n",
       "      <td>0.250000</td>\n",
       "    </tr>\n",
       "    <tr>\n",
       "      <th>176</th>\n",
       "      <td>2019-03-08</td>\n",
       "      <td>2</td>\n",
       "      <td>0</td>\n",
       "      <td>0</td>\n",
       "      <td>1</td>\n",
       "      <td>3</td>\n",
       "      <td>-0.400000</td>\n",
       "    </tr>\n",
       "    <tr>\n",
       "      <th>177</th>\n",
       "      <td>2019-03-09</td>\n",
       "      <td>1</td>\n",
       "      <td>2</td>\n",
       "      <td>1</td>\n",
       "      <td>1</td>\n",
       "      <td>5</td>\n",
       "      <td>0.666667</td>\n",
       "    </tr>\n",
       "  </tbody>\n",
       "</table>\n",
       "</div>"
      ],
      "text/plain": [
       "     date_order  bike  food  shop  car  total      rate\n",
       "173  2019-03-05     1     1     0    1      3 -0.571429\n",
       "174  2019-03-06     2     0     0    2      4  0.333333\n",
       "175  2019-03-07     2     0     2    1      5  0.250000\n",
       "176  2019-03-08     2     0     0    1      3 -0.400000\n",
       "177  2019-03-09     1     2     1    1      5  0.666667"
      ]
     },
     "execution_count": 19,
     "metadata": {
      "tags": []
     },
     "output_type": "execute_result"
    }
   ],
   "source": [
    "#menampilkan data gojek untuk 5 baris terakhir\n",
    "gojek.tail()"
   ]
  },
  {
   "cell_type": "code",
   "execution_count": 20,
   "metadata": {
    "colab": {
     "base_uri": "https://localhost:8080/",
     "height": 34
    },
    "id": "xzFWlCOW49jX",
    "outputId": "d667ea50-71d6-4c08-8840-8baaf4699231"
   },
   "outputs": [
    {
     "data": {
      "text/plain": [
       "(178, 7)"
      ]
     },
     "execution_count": 20,
     "metadata": {
      "tags": []
     },
     "output_type": "execute_result"
    }
   ],
   "source": [
    "#melihat dimensi dari data gojek\n",
    "gojek.shape"
   ]
  },
  {
   "cell_type": "code",
   "execution_count": 21,
   "metadata": {
    "colab": {
     "base_uri": "https://localhost:8080/",
     "height": 204
    },
    "id": "OgWuOMjf49ja",
    "outputId": "b81cee49-3f57-4ec8-df1b-66471ba93240"
   },
   "outputs": [
    {
     "data": {
      "text/html": [
       "<div>\n",
       "<style scoped>\n",
       "    .dataframe tbody tr th:only-of-type {\n",
       "        vertical-align: middle;\n",
       "    }\n",
       "\n",
       "    .dataframe tbody tr th {\n",
       "        vertical-align: top;\n",
       "    }\n",
       "\n",
       "    .dataframe thead th {\n",
       "        text-align: right;\n",
       "    }\n",
       "</style>\n",
       "<table border=\"1\" class=\"dataframe\">\n",
       "  <thead>\n",
       "    <tr style=\"text-align: right;\">\n",
       "      <th></th>\n",
       "      <th>bike</th>\n",
       "      <th>food</th>\n",
       "      <th>shop</th>\n",
       "      <th>car</th>\n",
       "      <th>total</th>\n",
       "      <th>rate</th>\n",
       "    </tr>\n",
       "  </thead>\n",
       "  <tbody>\n",
       "    <tr>\n",
       "      <th>0</th>\n",
       "      <td>3</td>\n",
       "      <td>4</td>\n",
       "      <td>0</td>\n",
       "      <td>0</td>\n",
       "      <td>7</td>\n",
       "      <td>NaN</td>\n",
       "    </tr>\n",
       "    <tr>\n",
       "      <th>1</th>\n",
       "      <td>2</td>\n",
       "      <td>2</td>\n",
       "      <td>0</td>\n",
       "      <td>1</td>\n",
       "      <td>5</td>\n",
       "      <td>-0.285714</td>\n",
       "    </tr>\n",
       "    <tr>\n",
       "      <th>2</th>\n",
       "      <td>2</td>\n",
       "      <td>0</td>\n",
       "      <td>0</td>\n",
       "      <td>0</td>\n",
       "      <td>2</td>\n",
       "      <td>-0.600000</td>\n",
       "    </tr>\n",
       "    <tr>\n",
       "      <th>3</th>\n",
       "      <td>2</td>\n",
       "      <td>1</td>\n",
       "      <td>1</td>\n",
       "      <td>1</td>\n",
       "      <td>5</td>\n",
       "      <td>1.500000</td>\n",
       "    </tr>\n",
       "    <tr>\n",
       "      <th>4</th>\n",
       "      <td>2</td>\n",
       "      <td>0</td>\n",
       "      <td>0</td>\n",
       "      <td>1</td>\n",
       "      <td>3</td>\n",
       "      <td>-0.400000</td>\n",
       "    </tr>\n",
       "  </tbody>\n",
       "</table>\n",
       "</div>"
      ],
      "text/plain": [
       "   bike  food  shop  car  total      rate\n",
       "0     3     4     0    0      7       NaN\n",
       "1     2     2     0    1      5 -0.285714\n",
       "2     2     0     0    0      2 -0.600000\n",
       "3     2     1     1    1      5  1.500000\n",
       "4     2     0     0    1      3 -0.400000"
      ]
     },
     "execution_count": 21,
     "metadata": {
      "tags": []
     },
     "output_type": "execute_result"
    }
   ],
   "source": [
    "#membuat dataframe baru untuk keperluan modelling\n",
    "gojek_data = gojek[['bike', 'food', \"shop\", 'car', 'total', 'rate']]\n",
    "gojek_data.head()"
   ]
  },
  {
   "cell_type": "code",
   "execution_count": 22,
   "metadata": {
    "id": "kieQxdkV49jc"
   },
   "outputs": [],
   "source": [
    "#mengatur dater_order menjadi index pada data gojek\n",
    "gojek.set_index('date_order', inplace=True)"
   ]
  },
  {
   "cell_type": "markdown",
   "metadata": {},
   "source": [
    "## Visualisasi data Gojek\n",
    "\n",
    "Melihat jumlah order tiap mode berdasarkan tanggalnya"
   ]
  },
  {
   "cell_type": "code",
   "execution_count": 23,
   "metadata": {
    "colab": {
     "base_uri": "https://localhost:8080/",
     "height": 262
    },
    "id": "R1Dh0ra049jg",
    "outputId": "d04e0e0f-dc5f-488a-8103-429f80333d62",
    "scrolled": false
   },
   "outputs": [
    {
     "data": {
      "image/png": "[encoded data removed]",
      "text/plain": [
       "<Figure size 1440x360 with 1 Axes>"
      ]
     },
     "metadata": {
      "needs_background": "light",
      "tags": []
     },
     "output_type": "display_data"
    }
   ],
   "source": [
    "fig = plt.figure(figsize=(20,5))\n",
    "gojek.bike.plot()\n",
    "gojek.food.plot()\n",
    "gojek.shop.plot()\n",
    "gojek.car.plot()\n",
    "gojek.total.plot()\n",
    "plt.legend(['Bike', 'Food', 'Shop', 'Car', 'Total', 'Rate'])\n",
    "plt.title('Jumlah Order Gojek di Pontianak')\n",
    "plt.xlabel('Waktu')\n",
    "plt.ylabel('Jumlah Order')\n",
    "plt.show()"
   ]
  },
  {
   "cell_type": "markdown",
   "metadata": {},
   "source": [
    "## Preparing data Covid-19"
   ]
  },
  {
   "cell_type": "code",
   "execution_count": 24,
   "metadata": {
    "colab": {
     "base_uri": "https://localhost:8080/",
     "height": 394
    },
    "id": "6r0BO3kD49jj",
    "outputId": "367e899d-80a7-463f-b633-86f427e52fbc"
   },
   "outputs": [
    {
     "data": {
      "text/html": [
       "<div>\n",
       "<style scoped>\n",
       "    .dataframe tbody tr th:only-of-type {\n",
       "        vertical-align: middle;\n",
       "    }\n",
       "\n",
       "    .dataframe tbody tr th {\n",
       "        vertical-align: top;\n",
       "    }\n",
       "\n",
       "    .dataframe thead th {\n",
       "        text-align: right;\n",
       "    }\n",
       "</style>\n",
       "<table border=\"1\" class=\"dataframe\">\n",
       "  <thead>\n",
       "    <tr style=\"text-align: right;\">\n",
       "      <th></th>\n",
       "      <th>Date</th>\n",
       "      <th>Location ISO Code</th>\n",
       "      <th>Location</th>\n",
       "      <th>New Cases</th>\n",
       "      <th>New Deaths</th>\n",
       "      <th>New Recovered</th>\n",
       "      <th>New Active Cases</th>\n",
       "      <th>Total Cases</th>\n",
       "      <th>Total Deaths</th>\n",
       "      <th>Total Recovered</th>\n",
       "      <th>Total Active Cases</th>\n",
       "      <th>Location Level</th>\n",
       "      <th>City or Regency</th>\n",
       "      <th>Province</th>\n",
       "      <th>Country</th>\n",
       "      <th>Continent</th>\n",
       "      <th>Island</th>\n",
       "      <th>Time Zone</th>\n",
       "      <th>Special Status</th>\n",
       "      <th>Total Regencies</th>\n",
       "      <th>Total Cities</th>\n",
       "      <th>Total Districts</th>\n",
       "      <th>Total Urban Villages</th>\n",
       "      <th>Total Rural Villages</th>\n",
       "      <th>Area (km2)</th>\n",
       "      <th>Population</th>\n",
       "      <th>Population Density</th>\n",
       "      <th>Longitude</th>\n",
       "      <th>Latitude</th>\n",
       "      <th>New Cases per Million</th>\n",
       "      <th>Total Cases per Million</th>\n",
       "      <th>New Deaths per Million</th>\n",
       "      <th>Total Deaths per Million</th>\n",
       "      <th>Case Fatality Rate</th>\n",
       "      <th>Case Recovered Rate</th>\n",
       "      <th>Growth Factor of New Cases</th>\n",
       "      <th>Growth Factor of New Deaths</th>\n",
       "    </tr>\n",
       "  </thead>\n",
       "  <tbody>\n",
       "    <tr>\n",
       "      <th>0</th>\n",
       "      <td>3/1/2020</td>\n",
       "      <td>ID-JK</td>\n",
       "      <td>DKI Jakarta</td>\n",
       "      <td>2</td>\n",
       "      <td>0</td>\n",
       "      <td>0</td>\n",
       "      <td>2</td>\n",
       "      <td>489</td>\n",
       "      <td>20</td>\n",
       "      <td>39</td>\n",
       "      <td>430</td>\n",
       "      <td>Province</td>\n",
       "      <td>NaN</td>\n",
       "      <td>DKI Jakarta</td>\n",
       "      <td>Indonesia</td>\n",
       "      <td>Asia</td>\n",
       "      <td>Jawa</td>\n",
       "      <td>UTC+07:00</td>\n",
       "      <td>Daerah Khusus Ibu Kota</td>\n",
       "      <td>1</td>\n",
       "      <td>5.0</td>\n",
       "      <td>44</td>\n",
       "      <td>267.0</td>\n",
       "      <td>NaN</td>\n",
       "      <td>664</td>\n",
       "      <td>10846145</td>\n",
       "      <td>16334.31</td>\n",
       "      <td>106.836118</td>\n",
       "      <td>-6.204699</td>\n",
       "      <td>0.18</td>\n",
       "      <td>45.09</td>\n",
       "      <td>0.0</td>\n",
       "      <td>1.84</td>\n",
       "      <td>4.09%</td>\n",
       "      <td>7.98%</td>\n",
       "      <td>NaN</td>\n",
       "      <td>NaN</td>\n",
       "    </tr>\n",
       "    <tr>\n",
       "      <th>1</th>\n",
       "      <td>3/2/2020</td>\n",
       "      <td>ID-JK</td>\n",
       "      <td>DKI Jakarta</td>\n",
       "      <td>2</td>\n",
       "      <td>0</td>\n",
       "      <td>0</td>\n",
       "      <td>2</td>\n",
       "      <td>491</td>\n",
       "      <td>20</td>\n",
       "      <td>39</td>\n",
       "      <td>432</td>\n",
       "      <td>Province</td>\n",
       "      <td>NaN</td>\n",
       "      <td>DKI Jakarta</td>\n",
       "      <td>Indonesia</td>\n",
       "      <td>Asia</td>\n",
       "      <td>Jawa</td>\n",
       "      <td>UTC+07:00</td>\n",
       "      <td>Daerah Khusus Ibu Kota</td>\n",
       "      <td>1</td>\n",
       "      <td>5.0</td>\n",
       "      <td>44</td>\n",
       "      <td>267.0</td>\n",
       "      <td>NaN</td>\n",
       "      <td>664</td>\n",
       "      <td>10846145</td>\n",
       "      <td>16334.31</td>\n",
       "      <td>106.836118</td>\n",
       "      <td>-6.204699</td>\n",
       "      <td>0.18</td>\n",
       "      <td>45.27</td>\n",
       "      <td>0.0</td>\n",
       "      <td>1.84</td>\n",
       "      <td>4.07%</td>\n",
       "      <td>7.94%</td>\n",
       "      <td>1.0</td>\n",
       "      <td>1.0</td>\n",
       "    </tr>\n",
       "    <tr>\n",
       "      <th>2</th>\n",
       "      <td>3/2/2020</td>\n",
       "      <td>IDN</td>\n",
       "      <td>Indonesia</td>\n",
       "      <td>2</td>\n",
       "      <td>0</td>\n",
       "      <td>0</td>\n",
       "      <td>2</td>\n",
       "      <td>2</td>\n",
       "      <td>0</td>\n",
       "      <td>0</td>\n",
       "      <td>2</td>\n",
       "      <td>Country</td>\n",
       "      <td>NaN</td>\n",
       "      <td>NaN</td>\n",
       "      <td>Indonesia</td>\n",
       "      <td>Asia</td>\n",
       "      <td>NaN</td>\n",
       "      <td>NaN</td>\n",
       "      <td>NaN</td>\n",
       "      <td>416</td>\n",
       "      <td>98.0</td>\n",
       "      <td>7230</td>\n",
       "      <td>8488.0</td>\n",
       "      <td>74953.0</td>\n",
       "      <td>1916907</td>\n",
       "      <td>265185520</td>\n",
       "      <td>138.34</td>\n",
       "      <td>113.921327</td>\n",
       "      <td>-0.789275</td>\n",
       "      <td>0.01</td>\n",
       "      <td>0.01</td>\n",
       "      <td>0.0</td>\n",
       "      <td>0.00</td>\n",
       "      <td>0.00%</td>\n",
       "      <td>0.00%</td>\n",
       "      <td>NaN</td>\n",
       "      <td>NaN</td>\n",
       "    </tr>\n",
       "    <tr>\n",
       "      <th>3</th>\n",
       "      <td>3/2/2020</td>\n",
       "      <td>ID-JB</td>\n",
       "      <td>Jawa Barat</td>\n",
       "      <td>3</td>\n",
       "      <td>0</td>\n",
       "      <td>0</td>\n",
       "      <td>3</td>\n",
       "      <td>12</td>\n",
       "      <td>5</td>\n",
       "      <td>5</td>\n",
       "      <td>2</td>\n",
       "      <td>Province</td>\n",
       "      <td>NaN</td>\n",
       "      <td>Jawa Barat</td>\n",
       "      <td>Indonesia</td>\n",
       "      <td>Asia</td>\n",
       "      <td>Jawa</td>\n",
       "      <td>UTC+07:00</td>\n",
       "      <td>NaN</td>\n",
       "      <td>18</td>\n",
       "      <td>9.0</td>\n",
       "      <td>627</td>\n",
       "      <td>645.0</td>\n",
       "      <td>5312.0</td>\n",
       "      <td>35378</td>\n",
       "      <td>45161325</td>\n",
       "      <td>1276.55</td>\n",
       "      <td>107.603708</td>\n",
       "      <td>-6.920432</td>\n",
       "      <td>0.07</td>\n",
       "      <td>0.27</td>\n",
       "      <td>0.0</td>\n",
       "      <td>0.11</td>\n",
       "      <td>41.67%</td>\n",
       "      <td>41.67%</td>\n",
       "      <td>NaN</td>\n",
       "      <td>NaN</td>\n",
       "    </tr>\n",
       "    <tr>\n",
       "      <th>4</th>\n",
       "      <td>3/3/2020</td>\n",
       "      <td>ID-JK</td>\n",
       "      <td>DKI Jakarta</td>\n",
       "      <td>2</td>\n",
       "      <td>0</td>\n",
       "      <td>0</td>\n",
       "      <td>2</td>\n",
       "      <td>493</td>\n",
       "      <td>20</td>\n",
       "      <td>39</td>\n",
       "      <td>434</td>\n",
       "      <td>Province</td>\n",
       "      <td>NaN</td>\n",
       "      <td>DKI Jakarta</td>\n",
       "      <td>Indonesia</td>\n",
       "      <td>Asia</td>\n",
       "      <td>Jawa</td>\n",
       "      <td>UTC+07:00</td>\n",
       "      <td>Daerah Khusus Ibu Kota</td>\n",
       "      <td>1</td>\n",
       "      <td>5.0</td>\n",
       "      <td>44</td>\n",
       "      <td>267.0</td>\n",
       "      <td>NaN</td>\n",
       "      <td>664</td>\n",
       "      <td>10846145</td>\n",
       "      <td>16334.31</td>\n",
       "      <td>106.836118</td>\n",
       "      <td>-6.204699</td>\n",
       "      <td>0.18</td>\n",
       "      <td>45.45</td>\n",
       "      <td>0.0</td>\n",
       "      <td>1.84</td>\n",
       "      <td>4.06%</td>\n",
       "      <td>7.91%</td>\n",
       "      <td>1.0</td>\n",
       "      <td>1.0</td>\n",
       "    </tr>\n",
       "  </tbody>\n",
       "</table>\n",
       "</div>"
      ],
      "text/plain": [
       "       Date  ... Growth Factor of New Deaths\n",
       "0  3/1/2020  ...                         NaN\n",
       "1  3/2/2020  ...                         1.0\n",
       "2  3/2/2020  ...                         NaN\n",
       "3  3/2/2020  ...                         NaN\n",
       "4  3/3/2020  ...                         1.0\n",
       "\n",
       "[5 rows x 37 columns]"
      ]
     },
     "execution_count": 24,
     "metadata": {
      "tags": []
     },
     "output_type": "execute_result"
    }
   ],
   "source": [
    "covid.head()"
   ]
  },
  {
   "cell_type": "code",
   "execution_count": 25,
   "metadata": {
    "colab": {
     "base_uri": "https://localhost:8080/",
     "height": 360
    },
    "id": "9MSgaUW849jm",
    "outputId": "8ab4c26e-3580-4788-a9f3-a693b060acd5",
    "scrolled": true
   },
   "outputs": [
    {
     "data": {
      "text/html": [
       "<div>\n",
       "<style scoped>\n",
       "    .dataframe tbody tr th:only-of-type {\n",
       "        vertical-align: middle;\n",
       "    }\n",
       "\n",
       "    .dataframe tbody tr th {\n",
       "        vertical-align: top;\n",
       "    }\n",
       "\n",
       "    .dataframe thead th {\n",
       "        text-align: right;\n",
       "    }\n",
       "</style>\n",
       "<table border=\"1\" class=\"dataframe\">\n",
       "  <thead>\n",
       "    <tr style=\"text-align: right;\">\n",
       "      <th></th>\n",
       "      <th>Date</th>\n",
       "      <th>Location ISO Code</th>\n",
       "      <th>Location</th>\n",
       "      <th>New Cases</th>\n",
       "      <th>New Deaths</th>\n",
       "      <th>New Recovered</th>\n",
       "      <th>New Active Cases</th>\n",
       "      <th>Total Cases</th>\n",
       "      <th>Total Deaths</th>\n",
       "      <th>Total Recovered</th>\n",
       "      <th>Total Active Cases</th>\n",
       "      <th>Location Level</th>\n",
       "      <th>City or Regency</th>\n",
       "      <th>Province</th>\n",
       "      <th>Country</th>\n",
       "      <th>Continent</th>\n",
       "      <th>Island</th>\n",
       "      <th>Time Zone</th>\n",
       "      <th>Special Status</th>\n",
       "      <th>Total Regencies</th>\n",
       "      <th>Total Cities</th>\n",
       "      <th>Total Districts</th>\n",
       "      <th>Total Urban Villages</th>\n",
       "      <th>Total Rural Villages</th>\n",
       "      <th>Area (km2)</th>\n",
       "      <th>Population</th>\n",
       "      <th>Population Density</th>\n",
       "      <th>Longitude</th>\n",
       "      <th>Latitude</th>\n",
       "      <th>New Cases per Million</th>\n",
       "      <th>Total Cases per Million</th>\n",
       "      <th>New Deaths per Million</th>\n",
       "      <th>Total Deaths per Million</th>\n",
       "      <th>Case Fatality Rate</th>\n",
       "      <th>Case Recovered Rate</th>\n",
       "      <th>Growth Factor of New Cases</th>\n",
       "      <th>Growth Factor of New Deaths</th>\n",
       "    </tr>\n",
       "  </thead>\n",
       "  <tbody>\n",
       "    <tr>\n",
       "      <th>7092</th>\n",
       "      <td>10/11/2020</td>\n",
       "      <td>ID-SG</td>\n",
       "      <td>Sulawesi Tenggara</td>\n",
       "      <td>91</td>\n",
       "      <td>1</td>\n",
       "      <td>6</td>\n",
       "      <td>84</td>\n",
       "      <td>3568</td>\n",
       "      <td>66</td>\n",
       "      <td>2348</td>\n",
       "      <td>1154</td>\n",
       "      <td>Province</td>\n",
       "      <td>NaN</td>\n",
       "      <td>Sulawesi Tenggara</td>\n",
       "      <td>Indonesia</td>\n",
       "      <td>Asia</td>\n",
       "      <td>Sulawesi</td>\n",
       "      <td>UTC+08:00</td>\n",
       "      <td>NaN</td>\n",
       "      <td>15</td>\n",
       "      <td>2.0</td>\n",
       "      <td>219</td>\n",
       "      <td>377.0</td>\n",
       "      <td>1911.0</td>\n",
       "      <td>38068</td>\n",
       "      <td>2635461</td>\n",
       "      <td>69.23</td>\n",
       "      <td>122.070311</td>\n",
       "      <td>-4.124689</td>\n",
       "      <td>34.53</td>\n",
       "      <td>1353.84</td>\n",
       "      <td>0.38</td>\n",
       "      <td>25.04</td>\n",
       "      <td>1.85%</td>\n",
       "      <td>65.81%</td>\n",
       "      <td>1.57</td>\n",
       "      <td>NaN</td>\n",
       "    </tr>\n",
       "    <tr>\n",
       "      <th>7093</th>\n",
       "      <td>10/11/2020</td>\n",
       "      <td>ID-SA</td>\n",
       "      <td>Sulawesi Utara</td>\n",
       "      <td>55</td>\n",
       "      <td>0</td>\n",
       "      <td>50</td>\n",
       "      <td>5</td>\n",
       "      <td>4798</td>\n",
       "      <td>180</td>\n",
       "      <td>3952</td>\n",
       "      <td>666</td>\n",
       "      <td>Province</td>\n",
       "      <td>NaN</td>\n",
       "      <td>Sulawesi Utara</td>\n",
       "      <td>Indonesia</td>\n",
       "      <td>Asia</td>\n",
       "      <td>Sulawesi</td>\n",
       "      <td>UTC+08:00</td>\n",
       "      <td>NaN</td>\n",
       "      <td>11</td>\n",
       "      <td>4.0</td>\n",
       "      <td>171</td>\n",
       "      <td>332.0</td>\n",
       "      <td>1507.0</td>\n",
       "      <td>13892</td>\n",
       "      <td>2641884</td>\n",
       "      <td>190.17</td>\n",
       "      <td>124.521240</td>\n",
       "      <td>1.259638</td>\n",
       "      <td>20.82</td>\n",
       "      <td>1816.13</td>\n",
       "      <td>0.00</td>\n",
       "      <td>68.13</td>\n",
       "      <td>3.75%</td>\n",
       "      <td>82.37%</td>\n",
       "      <td>1.34</td>\n",
       "      <td>1.0</td>\n",
       "    </tr>\n",
       "    <tr>\n",
       "      <th>7094</th>\n",
       "      <td>10/11/2020</td>\n",
       "      <td>ID-SB</td>\n",
       "      <td>Sumatera Barat</td>\n",
       "      <td>353</td>\n",
       "      <td>3</td>\n",
       "      <td>206</td>\n",
       "      <td>144</td>\n",
       "      <td>8714</td>\n",
       "      <td>174</td>\n",
       "      <td>4893</td>\n",
       "      <td>3647</td>\n",
       "      <td>Province</td>\n",
       "      <td>NaN</td>\n",
       "      <td>Sumatera Barat</td>\n",
       "      <td>Indonesia</td>\n",
       "      <td>Asia</td>\n",
       "      <td>Sumatera</td>\n",
       "      <td>UTC+07:00</td>\n",
       "      <td>NaN</td>\n",
       "      <td>12</td>\n",
       "      <td>7.0</td>\n",
       "      <td>179</td>\n",
       "      <td>230.0</td>\n",
       "      <td>928.0</td>\n",
       "      <td>42013</td>\n",
       "      <td>5519245</td>\n",
       "      <td>131.37</td>\n",
       "      <td>100.465062</td>\n",
       "      <td>-0.850253</td>\n",
       "      <td>63.96</td>\n",
       "      <td>1578.84</td>\n",
       "      <td>0.54</td>\n",
       "      <td>31.53</td>\n",
       "      <td>2.00%</td>\n",
       "      <td>56.15%</td>\n",
       "      <td>1.45</td>\n",
       "      <td>0.6</td>\n",
       "    </tr>\n",
       "    <tr>\n",
       "      <th>7095</th>\n",
       "      <td>10/11/2020</td>\n",
       "      <td>ID-SS</td>\n",
       "      <td>Sumatera Selatan</td>\n",
       "      <td>33</td>\n",
       "      <td>0</td>\n",
       "      <td>41</td>\n",
       "      <td>-8</td>\n",
       "      <td>6776</td>\n",
       "      <td>371</td>\n",
       "      <td>5116</td>\n",
       "      <td>1289</td>\n",
       "      <td>Province</td>\n",
       "      <td>NaN</td>\n",
       "      <td>Sumatera Selatan</td>\n",
       "      <td>Indonesia</td>\n",
       "      <td>Asia</td>\n",
       "      <td>Sumatera</td>\n",
       "      <td>UTC+07:00</td>\n",
       "      <td>NaN</td>\n",
       "      <td>13</td>\n",
       "      <td>4.0</td>\n",
       "      <td>241</td>\n",
       "      <td>387.0</td>\n",
       "      <td>2853.0</td>\n",
       "      <td>91592</td>\n",
       "      <td>8217551</td>\n",
       "      <td>89.72</td>\n",
       "      <td>104.169465</td>\n",
       "      <td>-3.216212</td>\n",
       "      <td>4.02</td>\n",
       "      <td>824.58</td>\n",
       "      <td>0.00</td>\n",
       "      <td>45.15</td>\n",
       "      <td>5.48%</td>\n",
       "      <td>75.50%</td>\n",
       "      <td>0.50</td>\n",
       "      <td>0.0</td>\n",
       "    </tr>\n",
       "    <tr>\n",
       "      <th>7096</th>\n",
       "      <td>10/11/2020</td>\n",
       "      <td>ID-SU</td>\n",
       "      <td>Sumatera Utara</td>\n",
       "      <td>85</td>\n",
       "      <td>6</td>\n",
       "      <td>157</td>\n",
       "      <td>-78</td>\n",
       "      <td>11332</td>\n",
       "      <td>468</td>\n",
       "      <td>8706</td>\n",
       "      <td>2158</td>\n",
       "      <td>Province</td>\n",
       "      <td>NaN</td>\n",
       "      <td>Sumatera Utara</td>\n",
       "      <td>Indonesia</td>\n",
       "      <td>Asia</td>\n",
       "      <td>Sumatera</td>\n",
       "      <td>UTC+07:00</td>\n",
       "      <td>NaN</td>\n",
       "      <td>25</td>\n",
       "      <td>8.0</td>\n",
       "      <td>450</td>\n",
       "      <td>693.0</td>\n",
       "      <td>5417.0</td>\n",
       "      <td>72981</td>\n",
       "      <td>14874889</td>\n",
       "      <td>203.82</td>\n",
       "      <td>99.051964</td>\n",
       "      <td>2.191894</td>\n",
       "      <td>5.71</td>\n",
       "      <td>761.82</td>\n",
       "      <td>0.40</td>\n",
       "      <td>31.46</td>\n",
       "      <td>4.13%</td>\n",
       "      <td>76.83%</td>\n",
       "      <td>0.97</td>\n",
       "      <td>NaN</td>\n",
       "    </tr>\n",
       "  </tbody>\n",
       "</table>\n",
       "</div>"
      ],
      "text/plain": [
       "            Date  ... Growth Factor of New Deaths\n",
       "7092  10/11/2020  ...                         NaN\n",
       "7093  10/11/2020  ...                         1.0\n",
       "7094  10/11/2020  ...                         0.6\n",
       "7095  10/11/2020  ...                         0.0\n",
       "7096  10/11/2020  ...                         NaN\n",
       "\n",
       "[5 rows x 37 columns]"
      ]
     },
     "execution_count": 25,
     "metadata": {
      "tags": []
     },
     "output_type": "execute_result"
    }
   ],
   "source": [
    "covid.tail()"
   ]
  },
  {
   "cell_type": "code",
   "execution_count": 26,
   "metadata": {
    "colab": {
     "base_uri": "https://localhost:8080/",
     "height": 663
    },
    "id": "SA21274X49jp",
    "outputId": "b0898acc-f887-458d-a1b2-aeac1d1f1888"
   },
   "outputs": [
    {
     "data": {
      "text/plain": [
       "Date                            object\n",
       "Location ISO Code               object\n",
       "Location                        object\n",
       "New Cases                        int64\n",
       "New Deaths                       int64\n",
       "New Recovered                    int64\n",
       "New Active Cases                 int64\n",
       "Total Cases                      int64\n",
       "Total Deaths                     int64\n",
       "Total Recovered                  int64\n",
       "Total Active Cases               int64\n",
       "Location Level                  object\n",
       "City or Regency                float64\n",
       "Province                        object\n",
       "Country                         object\n",
       "Continent                       object\n",
       "Island                          object\n",
       "Time Zone                       object\n",
       "Special Status                  object\n",
       "Total Regencies                  int64\n",
       "Total Cities                   float64\n",
       "Total Districts                  int64\n",
       "Total Urban Villages           float64\n",
       "Total Rural Villages           float64\n",
       "Area (km2)                       int64\n",
       "Population                       int64\n",
       "Population Density             float64\n",
       "Longitude                      float64\n",
       "Latitude                       float64\n",
       "New Cases per Million          float64\n",
       "Total Cases per Million        float64\n",
       "New Deaths per Million         float64\n",
       "Total Deaths per Million       float64\n",
       "Case Fatality Rate              object\n",
       "Case Recovered Rate             object\n",
       "Growth Factor of New Cases     float64\n",
       "Growth Factor of New Deaths    float64\n",
       "dtype: object"
      ]
     },
     "execution_count": 26,
     "metadata": {
      "tags": []
     },
     "output_type": "execute_result"
    }
   ],
   "source": [
    "#melihat tipe data covid19\n",
    "covid.dtypes"
   ]
  },
  {
   "cell_type": "code",
   "execution_count": 27,
   "metadata": {
    "colab": {
     "base_uri": "https://localhost:8080/",
     "height": 204
    },
    "id": "LgmNjB3949js",
    "outputId": "8da224a7-cb11-4a89-efc7-ff4832ec0f58"
   },
   "outputs": [
    {
     "data": {
      "text/plain": [
       "array(['DKI Jakarta', 'Indonesia', 'Jawa Barat', 'Banten',\n",
       "       'Sulawesi Tenggara', 'Kalimantan Timur',\n",
       "       'Daerah Istimewa Yogyakarta', 'Sumatera Utara', 'Jawa Tengah',\n",
       "       'Jawa Timur', 'Sulawesi Selatan', 'Maluku', 'Papua',\n",
       "       'Maluku Utara', 'Aceh', 'Kalimantan Tengah', 'Lampung',\n",
       "       'Sulawesi Tengah', 'Sumatera Barat', 'Papua Barat',\n",
       "       'Kalimantan Utara', 'Sulawesi Barat', 'Sumatera Selatan', 'Bali',\n",
       "       'Kalimantan Barat', 'Riau', 'Jambi', 'Kalimantan Selatan',\n",
       "       'Kepulauan Bangka Belitung', 'Kepulauan Riau', 'Bengkulu',\n",
       "       'Nusa Tenggara Barat', 'Sulawesi Utara', 'Nusa Tenggara Timur',\n",
       "       'Gorontalo'], dtype=object)"
      ]
     },
     "execution_count": 27,
     "metadata": {
      "tags": []
     },
     "output_type": "execute_result"
    }
   ],
   "source": [
    "#melihat lokasi pada data covid\n",
    "covid['Location'].unique()"
   ]
  },
  {
   "cell_type": "code",
   "execution_count": 28,
   "metadata": {
    "id": "eq7cvGQ449ju"
   },
   "outputs": [],
   "source": [
    "#merubah kolom date menjadi tipe datetime\n",
    "covid['Date'] = pd.to_datetime(covid['Date'].str.strip(), format='%m/%d/%Y')"
   ]
  },
  {
   "cell_type": "code",
   "execution_count": 29,
   "metadata": {
    "id": "6HVJTdmP49jw",
    "scrolled": false
   },
   "outputs": [],
   "source": [
    "#membuat dataframe baru dengan lokasi hanya di Kalimantan Barat\n",
    "kalbar_data = covid.loc[covid['Location'] == 'Kalimantan Barat'].reset_index()"
   ]
  },
  {
   "cell_type": "code",
   "execution_count": 30,
   "metadata": {
    "id": "vmbw5esx49jz"
   },
   "outputs": [],
   "source": [
    "#mengambil 178 baris terakhir, menyesuaikan banyak data dari gojek\n",
    "kalbar = kalbar_data.iloc[-178:].reset_index()"
   ]
  },
  {
   "cell_type": "code",
   "execution_count": 31,
   "metadata": {
    "id": "f6G65OBj49j1",
    "scrolled": true
   },
   "outputs": [],
   "source": [
    "#mengambil kolom yang dianggap mempengaruhi jumlah order\n",
    "kalbar = kalbar[['Date', 'New Cases', 'New Deaths', 'New Recovered', 'Total Cases', 'Total Deaths', 'Total Recovered', 'Total Cases per Million',\n",
    "'Total Deaths per Million', 'Case Fatality Rate', 'Case Recovered Rate']]"
   ]
  },
  {
   "cell_type": "code",
   "execution_count": 32,
   "metadata": {
    "colab": {
     "base_uri": "https://localhost:8080/",
     "height": 34
    },
    "id": "JFlA2_WI49j3",
    "outputId": "387e9374-7a68-4050-fbde-12634ccd3b69"
   },
   "outputs": [
    {
     "data": {
      "text/plain": [
       "(178, 11)"
      ]
     },
     "execution_count": 32,
     "metadata": {
      "tags": []
     },
     "output_type": "execute_result"
    }
   ],
   "source": [
    "#melihat dimensi data kalbar, jumlah baris sudah sesuai dengan data gojek\n",
    "kalbar.shape"
   ]
  },
  {
   "cell_type": "code",
   "execution_count": 33,
   "metadata": {
    "colab": {
     "base_uri": "https://localhost:8080/",
     "height": 102
    },
    "id": "Vd0YIaL049j6",
    "outputId": "49b3cfb7-6ae6-445b-a566-5cdb6b0e59ee",
    "scrolled": true
   },
   "outputs": [
    {
     "data": {
      "text/plain": [
       "Index(['Date', 'New Cases', 'New Deaths', 'New Recovered', 'Total Cases',\n",
       "       'Total Deaths', 'Total Recovered', 'Total Cases per Million',\n",
       "       'Total Deaths per Million', 'Case Fatality Rate',\n",
       "       'Case Recovered Rate'],\n",
       "      dtype='object')"
      ]
     },
     "execution_count": 33,
     "metadata": {
      "tags": []
     },
     "output_type": "execute_result"
    }
   ],
   "source": [
    "#melihat kolom dalam data kalbar\n",
    "kalbar.columns"
   ]
  },
  {
   "cell_type": "code",
   "execution_count": 34,
   "metadata": {
    "colab": {
     "base_uri": "https://localhost:8080/",
     "height": 623
    },
    "id": "360rWZIh49j9",
    "outputId": "1a02740a-0f9c-429a-82aa-2cbbee5412b9",
    "scrolled": false
   },
   "outputs": [
    {
     "data": {
      "text/html": [
       "<div>\n",
       "<style scoped>\n",
       "    .dataframe tbody tr th:only-of-type {\n",
       "        vertical-align: middle;\n",
       "    }\n",
       "\n",
       "    .dataframe tbody tr th {\n",
       "        vertical-align: top;\n",
       "    }\n",
       "\n",
       "    .dataframe thead th {\n",
       "        text-align: right;\n",
       "    }\n",
       "</style>\n",
       "<table border=\"1\" class=\"dataframe\">\n",
       "  <thead>\n",
       "    <tr style=\"text-align: right;\">\n",
       "      <th></th>\n",
       "      <th>Date</th>\n",
       "      <th>New Cases</th>\n",
       "      <th>New Deaths</th>\n",
       "      <th>New Recovered</th>\n",
       "      <th>Total Cases</th>\n",
       "      <th>Total Deaths</th>\n",
       "      <th>Total Recovered</th>\n",
       "      <th>Total Cases per Million</th>\n",
       "      <th>Total Deaths per Million</th>\n",
       "      <th>Case Fatality Rate</th>\n",
       "      <th>Case Recovered Rate</th>\n",
       "    </tr>\n",
       "  </thead>\n",
       "  <tbody>\n",
       "    <tr>\n",
       "      <th>0</th>\n",
       "      <td>2020-04-17</td>\n",
       "      <td>0</td>\n",
       "      <td>0</td>\n",
       "      <td>0</td>\n",
       "      <td>21</td>\n",
       "      <td>3</td>\n",
       "      <td>6</td>\n",
       "      <td>3.87</td>\n",
       "      <td>0.55</td>\n",
       "      <td>14.29%</td>\n",
       "      <td>28.57%</td>\n",
       "    </tr>\n",
       "    <tr>\n",
       "      <th>1</th>\n",
       "      <td>2020-04-18</td>\n",
       "      <td>0</td>\n",
       "      <td>0</td>\n",
       "      <td>0</td>\n",
       "      <td>21</td>\n",
       "      <td>3</td>\n",
       "      <td>6</td>\n",
       "      <td>3.87</td>\n",
       "      <td>0.55</td>\n",
       "      <td>14.29%</td>\n",
       "      <td>28.57%</td>\n",
       "    </tr>\n",
       "    <tr>\n",
       "      <th>2</th>\n",
       "      <td>2020-04-19</td>\n",
       "      <td>0</td>\n",
       "      <td>0</td>\n",
       "      <td>0</td>\n",
       "      <td>21</td>\n",
       "      <td>3</td>\n",
       "      <td>6</td>\n",
       "      <td>3.87</td>\n",
       "      <td>0.55</td>\n",
       "      <td>14.29%</td>\n",
       "      <td>28.57%</td>\n",
       "    </tr>\n",
       "    <tr>\n",
       "      <th>3</th>\n",
       "      <td>2020-04-20</td>\n",
       "      <td>0</td>\n",
       "      <td>0</td>\n",
       "      <td>0</td>\n",
       "      <td>21</td>\n",
       "      <td>3</td>\n",
       "      <td>6</td>\n",
       "      <td>3.87</td>\n",
       "      <td>0.55</td>\n",
       "      <td>14.29%</td>\n",
       "      <td>28.57%</td>\n",
       "    </tr>\n",
       "    <tr>\n",
       "      <th>4</th>\n",
       "      <td>2020-04-21</td>\n",
       "      <td>6</td>\n",
       "      <td>0</td>\n",
       "      <td>1</td>\n",
       "      <td>27</td>\n",
       "      <td>3</td>\n",
       "      <td>7</td>\n",
       "      <td>4.98</td>\n",
       "      <td>0.55</td>\n",
       "      <td>11.11%</td>\n",
       "      <td>25.93%</td>\n",
       "    </tr>\n",
       "    <tr>\n",
       "      <th>...</th>\n",
       "      <td>...</td>\n",
       "      <td>...</td>\n",
       "      <td>...</td>\n",
       "      <td>...</td>\n",
       "      <td>...</td>\n",
       "      <td>...</td>\n",
       "      <td>...</td>\n",
       "      <td>...</td>\n",
       "      <td>...</td>\n",
       "      <td>...</td>\n",
       "      <td>...</td>\n",
       "    </tr>\n",
       "    <tr>\n",
       "      <th>173</th>\n",
       "      <td>2020-10-07</td>\n",
       "      <td>10</td>\n",
       "      <td>0</td>\n",
       "      <td>4</td>\n",
       "      <td>1095</td>\n",
       "      <td>9</td>\n",
       "      <td>878</td>\n",
       "      <td>201.92</td>\n",
       "      <td>1.66</td>\n",
       "      <td>0.82%</td>\n",
       "      <td>80.18%</td>\n",
       "    </tr>\n",
       "    <tr>\n",
       "      <th>174</th>\n",
       "      <td>2020-10-08</td>\n",
       "      <td>13</td>\n",
       "      <td>0</td>\n",
       "      <td>1</td>\n",
       "      <td>1108</td>\n",
       "      <td>9</td>\n",
       "      <td>879</td>\n",
       "      <td>204.32</td>\n",
       "      <td>1.66</td>\n",
       "      <td>0.81%</td>\n",
       "      <td>79.33%</td>\n",
       "    </tr>\n",
       "    <tr>\n",
       "      <th>175</th>\n",
       "      <td>2020-10-09</td>\n",
       "      <td>28</td>\n",
       "      <td>0</td>\n",
       "      <td>30</td>\n",
       "      <td>1136</td>\n",
       "      <td>9</td>\n",
       "      <td>909</td>\n",
       "      <td>209.49</td>\n",
       "      <td>1.66</td>\n",
       "      <td>0.79%</td>\n",
       "      <td>80.02%</td>\n",
       "    </tr>\n",
       "    <tr>\n",
       "      <th>176</th>\n",
       "      <td>2020-10-10</td>\n",
       "      <td>80</td>\n",
       "      <td>0</td>\n",
       "      <td>7</td>\n",
       "      <td>1216</td>\n",
       "      <td>9</td>\n",
       "      <td>916</td>\n",
       "      <td>224.24</td>\n",
       "      <td>1.66</td>\n",
       "      <td>0.74%</td>\n",
       "      <td>75.33%</td>\n",
       "    </tr>\n",
       "    <tr>\n",
       "      <th>177</th>\n",
       "      <td>2020-10-11</td>\n",
       "      <td>81</td>\n",
       "      <td>0</td>\n",
       "      <td>42</td>\n",
       "      <td>1297</td>\n",
       "      <td>9</td>\n",
       "      <td>958</td>\n",
       "      <td>239.17</td>\n",
       "      <td>1.66</td>\n",
       "      <td>0.69%</td>\n",
       "      <td>73.86%</td>\n",
       "    </tr>\n",
       "  </tbody>\n",
       "</table>\n",
       "<p>178 rows × 11 columns</p>\n",
       "</div>"
      ],
      "text/plain": [
       "          Date  New Cases  ...  Case Fatality Rate  Case Recovered Rate\n",
       "0   2020-04-17          0  ...              14.29%               28.57%\n",
       "1   2020-04-18          0  ...              14.29%               28.57%\n",
       "2   2020-04-19          0  ...              14.29%               28.57%\n",
       "3   2020-04-20          0  ...              14.29%               28.57%\n",
       "4   2020-04-21          6  ...              11.11%               25.93%\n",
       "..         ...        ...  ...                 ...                  ...\n",
       "173 2020-10-07         10  ...               0.82%               80.18%\n",
       "174 2020-10-08         13  ...               0.81%               79.33%\n",
       "175 2020-10-09         28  ...               0.79%               80.02%\n",
       "176 2020-10-10         80  ...               0.74%               75.33%\n",
       "177 2020-10-11         81  ...               0.69%               73.86%\n",
       "\n",
       "[178 rows x 11 columns]"
      ]
     },
     "execution_count": 34,
     "metadata": {
      "tags": []
     },
     "output_type": "execute_result"
    }
   ],
   "source": [
    "kalbar"
   ]
  },
  {
   "cell_type": "code",
   "execution_count": 35,
   "metadata": {
    "colab": {
     "base_uri": "https://localhost:8080/",
     "height": 323
    },
    "id": "SK_iSBLn49j_",
    "outputId": "045700ca-ad75-424c-c3d4-5d515e3510d8",
    "scrolled": false
   },
   "outputs": [
    {
     "data": {
      "text/html": [
       "<div>\n",
       "<style scoped>\n",
       "    .dataframe tbody tr th:only-of-type {\n",
       "        vertical-align: middle;\n",
       "    }\n",
       "\n",
       "    .dataframe tbody tr th {\n",
       "        vertical-align: top;\n",
       "    }\n",
       "\n",
       "    .dataframe thead th {\n",
       "        text-align: right;\n",
       "    }\n",
       "</style>\n",
       "<table border=\"1\" class=\"dataframe\">\n",
       "  <thead>\n",
       "    <tr style=\"text-align: right;\">\n",
       "      <th></th>\n",
       "      <th>Date</th>\n",
       "      <th>New Cases</th>\n",
       "      <th>New Deaths</th>\n",
       "      <th>New Recovered</th>\n",
       "      <th>Total Cases</th>\n",
       "      <th>Total Deaths</th>\n",
       "      <th>Total Recovered</th>\n",
       "      <th>Total Cases per Million</th>\n",
       "      <th>Total Deaths per Million</th>\n",
       "      <th>Case Fatality Rate</th>\n",
       "      <th>Case Recovered Rate</th>\n",
       "      <th>bike</th>\n",
       "      <th>food</th>\n",
       "      <th>shop</th>\n",
       "      <th>car</th>\n",
       "      <th>total</th>\n",
       "      <th>rate</th>\n",
       "    </tr>\n",
       "  </thead>\n",
       "  <tbody>\n",
       "    <tr>\n",
       "      <th>0</th>\n",
       "      <td>2020-04-17</td>\n",
       "      <td>0</td>\n",
       "      <td>0</td>\n",
       "      <td>0</td>\n",
       "      <td>21</td>\n",
       "      <td>3</td>\n",
       "      <td>6</td>\n",
       "      <td>3.87</td>\n",
       "      <td>0.55</td>\n",
       "      <td>14.29%</td>\n",
       "      <td>28.57%</td>\n",
       "      <td>3</td>\n",
       "      <td>4</td>\n",
       "      <td>0</td>\n",
       "      <td>0</td>\n",
       "      <td>7</td>\n",
       "      <td>NaN</td>\n",
       "    </tr>\n",
       "    <tr>\n",
       "      <th>1</th>\n",
       "      <td>2020-04-18</td>\n",
       "      <td>0</td>\n",
       "      <td>0</td>\n",
       "      <td>0</td>\n",
       "      <td>21</td>\n",
       "      <td>3</td>\n",
       "      <td>6</td>\n",
       "      <td>3.87</td>\n",
       "      <td>0.55</td>\n",
       "      <td>14.29%</td>\n",
       "      <td>28.57%</td>\n",
       "      <td>2</td>\n",
       "      <td>2</td>\n",
       "      <td>0</td>\n",
       "      <td>1</td>\n",
       "      <td>5</td>\n",
       "      <td>-0.285714</td>\n",
       "    </tr>\n",
       "    <tr>\n",
       "      <th>2</th>\n",
       "      <td>2020-04-19</td>\n",
       "      <td>0</td>\n",
       "      <td>0</td>\n",
       "      <td>0</td>\n",
       "      <td>21</td>\n",
       "      <td>3</td>\n",
       "      <td>6</td>\n",
       "      <td>3.87</td>\n",
       "      <td>0.55</td>\n",
       "      <td>14.29%</td>\n",
       "      <td>28.57%</td>\n",
       "      <td>2</td>\n",
       "      <td>0</td>\n",
       "      <td>0</td>\n",
       "      <td>0</td>\n",
       "      <td>2</td>\n",
       "      <td>-0.600000</td>\n",
       "    </tr>\n",
       "    <tr>\n",
       "      <th>3</th>\n",
       "      <td>2020-04-20</td>\n",
       "      <td>0</td>\n",
       "      <td>0</td>\n",
       "      <td>0</td>\n",
       "      <td>21</td>\n",
       "      <td>3</td>\n",
       "      <td>6</td>\n",
       "      <td>3.87</td>\n",
       "      <td>0.55</td>\n",
       "      <td>14.29%</td>\n",
       "      <td>28.57%</td>\n",
       "      <td>2</td>\n",
       "      <td>1</td>\n",
       "      <td>1</td>\n",
       "      <td>1</td>\n",
       "      <td>5</td>\n",
       "      <td>1.500000</td>\n",
       "    </tr>\n",
       "    <tr>\n",
       "      <th>4</th>\n",
       "      <td>2020-04-21</td>\n",
       "      <td>6</td>\n",
       "      <td>0</td>\n",
       "      <td>1</td>\n",
       "      <td>27</td>\n",
       "      <td>3</td>\n",
       "      <td>7</td>\n",
       "      <td>4.98</td>\n",
       "      <td>0.55</td>\n",
       "      <td>11.11%</td>\n",
       "      <td>25.93%</td>\n",
       "      <td>2</td>\n",
       "      <td>0</td>\n",
       "      <td>0</td>\n",
       "      <td>1</td>\n",
       "      <td>3</td>\n",
       "      <td>-0.400000</td>\n",
       "    </tr>\n",
       "  </tbody>\n",
       "</table>\n",
       "</div>"
      ],
      "text/plain": [
       "        Date  New Cases  New Deaths  New Recovered  ...  shop  car  total      rate\n",
       "0 2020-04-17          0           0              0  ...     0    0      7       NaN\n",
       "1 2020-04-18          0           0              0  ...     0    1      5 -0.285714\n",
       "2 2020-04-19          0           0              0  ...     0    0      2 -0.600000\n",
       "3 2020-04-20          0           0              0  ...     1    1      5  1.500000\n",
       "4 2020-04-21          6           0              1  ...     0    1      3 -0.400000\n",
       "\n",
       "[5 rows x 17 columns]"
      ]
     },
     "execution_count": 35,
     "metadata": {
      "tags": []
     },
     "output_type": "execute_result"
    }
   ],
   "source": [
    "#membuat dataframe data, kombinasi dari data kalbar dan gojek\n",
    "data = pd.concat([kalbar,gojek_data], axis=1)\n",
    "data.head()"
   ]
  },
  {
   "cell_type": "code",
   "execution_count": 36,
   "metadata": {
    "id": "saAR7Ztr49kC"
   },
   "outputs": [],
   "source": [
    "#membuat kolom baru, yang digunakan sebagai target untuk prediksi nilai order\n",
    "data['total_30d'] = data['total'].shift(-30)"
   ]
  },
  {
   "cell_type": "code",
   "execution_count": 37,
   "metadata": {
    "id": "efkmL9TC49kF"
   },
   "outputs": [],
   "source": [
    "#membuang nilai NaN\n",
    "data.dropna(inplace=True)"
   ]
  },
  {
   "cell_type": "code",
   "execution_count": 38,
   "metadata": {
    "id": "uZpV1MB449kH"
   },
   "outputs": [],
   "source": [
    "#mengatur kolom date sebagai index\n",
    "data.set_index('Date', inplace=True)"
   ]
  },
  {
   "cell_type": "code",
   "execution_count": 39,
   "metadata": {
    "colab": {
     "base_uri": "https://localhost:8080/",
     "height": 371
    },
    "id": "BA-aO64P49kJ",
    "outputId": "b2014bb4-97bc-48a8-b0e3-48fdaa7bbe1b",
    "scrolled": true
   },
   "outputs": [
    {
     "data": {
      "text/html": [
       "<div>\n",
       "<style scoped>\n",
       "    .dataframe tbody tr th:only-of-type {\n",
       "        vertical-align: middle;\n",
       "    }\n",
       "\n",
       "    .dataframe tbody tr th {\n",
       "        vertical-align: top;\n",
       "    }\n",
       "\n",
       "    .dataframe thead th {\n",
       "        text-align: right;\n",
       "    }\n",
       "</style>\n",
       "<table border=\"1\" class=\"dataframe\">\n",
       "  <thead>\n",
       "    <tr style=\"text-align: right;\">\n",
       "      <th></th>\n",
       "      <th>New Cases</th>\n",
       "      <th>New Deaths</th>\n",
       "      <th>New Recovered</th>\n",
       "      <th>Total Cases</th>\n",
       "      <th>Total Deaths</th>\n",
       "      <th>Total Recovered</th>\n",
       "      <th>Total Cases per Million</th>\n",
       "      <th>Total Deaths per Million</th>\n",
       "      <th>Case Fatality Rate</th>\n",
       "      <th>Case Recovered Rate</th>\n",
       "      <th>bike</th>\n",
       "      <th>food</th>\n",
       "      <th>shop</th>\n",
       "      <th>car</th>\n",
       "      <th>total</th>\n",
       "      <th>rate</th>\n",
       "      <th>total_30d</th>\n",
       "    </tr>\n",
       "    <tr>\n",
       "      <th>Date</th>\n",
       "      <th></th>\n",
       "      <th></th>\n",
       "      <th></th>\n",
       "      <th></th>\n",
       "      <th></th>\n",
       "      <th></th>\n",
       "      <th></th>\n",
       "      <th></th>\n",
       "      <th></th>\n",
       "      <th></th>\n",
       "      <th></th>\n",
       "      <th></th>\n",
       "      <th></th>\n",
       "      <th></th>\n",
       "      <th></th>\n",
       "      <th></th>\n",
       "      <th></th>\n",
       "    </tr>\n",
       "  </thead>\n",
       "  <tbody>\n",
       "    <tr>\n",
       "      <th>2020-09-07</th>\n",
       "      <td>0</td>\n",
       "      <td>0</td>\n",
       "      <td>0</td>\n",
       "      <td>704</td>\n",
       "      <td>6</td>\n",
       "      <td>614</td>\n",
       "      <td>129.82</td>\n",
       "      <td>1.11</td>\n",
       "      <td>0.85%</td>\n",
       "      <td>87.22%</td>\n",
       "      <td>0</td>\n",
       "      <td>0</td>\n",
       "      <td>0</td>\n",
       "      <td>3</td>\n",
       "      <td>3</td>\n",
       "      <td>2.000000</td>\n",
       "      <td>3.0</td>\n",
       "    </tr>\n",
       "    <tr>\n",
       "      <th>2020-09-08</th>\n",
       "      <td>7</td>\n",
       "      <td>0</td>\n",
       "      <td>5</td>\n",
       "      <td>711</td>\n",
       "      <td>6</td>\n",
       "      <td>619</td>\n",
       "      <td>131.11</td>\n",
       "      <td>1.11</td>\n",
       "      <td>0.84%</td>\n",
       "      <td>87.06%</td>\n",
       "      <td>1</td>\n",
       "      <td>1</td>\n",
       "      <td>3</td>\n",
       "      <td>0</td>\n",
       "      <td>5</td>\n",
       "      <td>0.666667</td>\n",
       "      <td>4.0</td>\n",
       "    </tr>\n",
       "    <tr>\n",
       "      <th>2020-09-09</th>\n",
       "      <td>12</td>\n",
       "      <td>0</td>\n",
       "      <td>2</td>\n",
       "      <td>723</td>\n",
       "      <td>6</td>\n",
       "      <td>621</td>\n",
       "      <td>133.33</td>\n",
       "      <td>1.11</td>\n",
       "      <td>0.83%</td>\n",
       "      <td>85.89%</td>\n",
       "      <td>4</td>\n",
       "      <td>1</td>\n",
       "      <td>1</td>\n",
       "      <td>1</td>\n",
       "      <td>7</td>\n",
       "      <td>0.400000</td>\n",
       "      <td>5.0</td>\n",
       "    </tr>\n",
       "    <tr>\n",
       "      <th>2020-09-10</th>\n",
       "      <td>5</td>\n",
       "      <td>0</td>\n",
       "      <td>0</td>\n",
       "      <td>728</td>\n",
       "      <td>6</td>\n",
       "      <td>621</td>\n",
       "      <td>134.25</td>\n",
       "      <td>1.11</td>\n",
       "      <td>0.82%</td>\n",
       "      <td>85.30%</td>\n",
       "      <td>0</td>\n",
       "      <td>1</td>\n",
       "      <td>1</td>\n",
       "      <td>1</td>\n",
       "      <td>3</td>\n",
       "      <td>-0.571429</td>\n",
       "      <td>3.0</td>\n",
       "    </tr>\n",
       "    <tr>\n",
       "      <th>2020-09-11</th>\n",
       "      <td>8</td>\n",
       "      <td>0</td>\n",
       "      <td>23</td>\n",
       "      <td>736</td>\n",
       "      <td>6</td>\n",
       "      <td>644</td>\n",
       "      <td>135.72</td>\n",
       "      <td>1.11</td>\n",
       "      <td>0.82%</td>\n",
       "      <td>87.50%</td>\n",
       "      <td>3</td>\n",
       "      <td>0</td>\n",
       "      <td>0</td>\n",
       "      <td>1</td>\n",
       "      <td>4</td>\n",
       "      <td>0.333333</td>\n",
       "      <td>5.0</td>\n",
       "    </tr>\n",
       "  </tbody>\n",
       "</table>\n",
       "</div>"
      ],
      "text/plain": [
       "            New Cases  New Deaths  New Recovered  ...  total      rate  total_30d\n",
       "Date                                              ...                            \n",
       "2020-09-07          0           0              0  ...      3  2.000000        3.0\n",
       "2020-09-08          7           0              5  ...      5  0.666667        4.0\n",
       "2020-09-09         12           0              2  ...      7  0.400000        5.0\n",
       "2020-09-10          5           0              0  ...      3 -0.571429        3.0\n",
       "2020-09-11          8           0             23  ...      4  0.333333        5.0\n",
       "\n",
       "[5 rows x 17 columns]"
      ]
     },
     "execution_count": 39,
     "metadata": {
      "tags": []
     },
     "output_type": "execute_result"
    }
   ],
   "source": [
    "data.tail()"
   ]
  },
  {
   "cell_type": "markdown",
   "metadata": {},
   "source": [
    "## Preparing data untuk model"
   ]
  },
  {
   "cell_type": "code",
   "execution_count": 40,
   "metadata": {
    "id": "O_JsZoJH49kM"
   },
   "outputs": [],
   "source": [
    "from sklearn import preprocessing\n",
    "\n",
    "min_max_scaler = preprocessing.MinMaxScaler()\n",
    "\n",
    "total_cases = np.array(data['Total Cases'])\n",
    "total_order = np.array(data.total)\n",
    "\n",
    "cases_scaled = min_max_scaler.fit_transform(total_cases.reshape(-1,1))\n",
    "order_scaled = min_max_scaler.fit_transform(total_order.reshape(-1,1))\n",
    "\n",
    "#menentukan variabel x dan y\n",
    "X= data[['New Cases', 'New Deaths', 'New Recovered','Total Cases','Total Deaths','Total Recovered', 'total']]\n",
    "#scaling variabel x\n",
    "X= preprocessing.scale(X)\n",
    "y= data['total_30d']"
   ]
  },
  {
   "cell_type": "markdown",
   "metadata": {},
   "source": [
    "## Visualisasi data\n",
    "\n",
    "Menampilkan data jumlah order gojek dan jumlah cases covid"
   ]
  },
  {
   "cell_type": "code",
   "execution_count": 41,
   "metadata": {
    "colab": {
     "base_uri": "https://localhost:8080/",
     "height": 265
    },
    "id": "jFpqMg2H49kO",
    "outputId": "88e9972e-3d3e-4137-ee17-3977dcd75a7f",
    "scrolled": false
   },
   "outputs": [
    {
     "data": {
      "image/png": "[encoded data removed]",
      "text/plain": [
       "<Figure size 432x288 with 1 Axes>"
      ]
     },
     "metadata": {
      "needs_background": "light",
      "tags": []
     },
     "output_type": "display_data"
    }
   ],
   "source": [
    "plt.plot(data.index, order_scaled)\n",
    "plt.plot(data.index, cases_scaled)\n",
    "plt.legend(['Order','Covid'])\n",
    "plt.show()"
   ]
  },
  {
   "cell_type": "code",
   "execution_count": 42,
   "metadata": {
    "colab": {
     "base_uri": "https://localhost:8080/",
     "height": 265
    },
    "id": "0rN3P5ns49kQ",
    "outputId": "4531ce12-47f7-46e8-bde9-05c8cb47d7d3",
    "scrolled": true
   },
   "outputs": [
    {
     "data": {
      "image/png": "[encoded data removed]",
      "text/plain": [
       "<Figure size 432x288 with 1 Axes>"
      ]
     },
     "metadata": {
      "needs_background": "light",
      "tags": []
     },
     "output_type": "display_data"
    }
   ],
   "source": [
    "plt.scatter(cases_scaled, order_scaled)\n",
    "plt.show()"
   ]
  },
  {
   "cell_type": "markdown",
   "metadata": {},
   "source": [
    "# Modelling"
   ]
  },
  {
   "cell_type": "markdown",
   "metadata": {},
   "source": [
    "## Split data"
   ]
  },
  {
   "cell_type": "code",
   "execution_count": 43,
   "metadata": {
    "id": "2uBQ9IQQ49kS"
   },
   "outputs": [],
   "source": [
    "from sklearn.model_selection import train_test_split\n",
    "\n",
    "x_train, x_test, y_train, y_test = train_test_split(X,y,test_size=.2,random_state=178)"
   ]
  },
  {
   "cell_type": "markdown",
   "metadata": {},
   "source": [
    "## Modelling dengan RandomForestRegressor\n",
    "\n",
    "Dengan nilai estimator awal 100"
   ]
  },
  {
   "cell_type": "code",
   "execution_count": 44,
   "metadata": {
    "colab": {
     "base_uri": "https://localhost:8080/",
     "height": 136
    },
    "id": "1LvO8LWu49kW",
    "outputId": "384cfdc4-9c51-4946-e015-818758501c7d",
    "scrolled": false
   },
   "outputs": [
    {
     "data": {
      "text/plain": [
       "RandomForestRegressor(bootstrap=True, ccp_alpha=0.0, criterion='mse',\n",
       "                      max_depth=None, max_features='auto', max_leaf_nodes=None,\n",
       "                      max_samples=None, min_impurity_decrease=0.0,\n",
       "                      min_impurity_split=None, min_samples_leaf=1,\n",
       "                      min_samples_split=2, min_weight_fraction_leaf=0.0,\n",
       "                      n_estimators=100, n_jobs=None, oob_score=False,\n",
       "                      random_state=178, verbose=0, warm_start=False)"
      ]
     },
     "execution_count": 44,
     "metadata": {
      "tags": []
     },
     "output_type": "execute_result"
    }
   ],
   "source": [
    "from sklearn.ensemble import RandomForestRegressor\n",
    "\n",
    "rf = RandomForestRegressor(n_estimators=100, random_state=178)\n",
    "rf.fit(x_train, y_train)"
   ]
  },
  {
   "cell_type": "code",
   "execution_count": 48,
   "metadata": {
    "colab": {
     "base_uri": "https://localhost:8080/",
     "height": 51
    },
    "id": "EeLpX-jR49kZ",
    "outputId": "aad7adca-5440-4ef2-f68d-cd568ae72270",
    "scrolled": true
   },
   "outputs": [
    {
     "name": "stdout",
     "output_type": "stream",
     "text": [
      "0.17251673947949675\n",
      "-4.110721065863963\n"
     ]
    }
   ],
   "source": [
    "#menampilkan score atau nilai r^2\n",
    "print(rf.score(x_train, y_train))\n",
    "print(rf.score(x_test, y_test))"
   ]
  },
  {
   "cell_type": "markdown",
   "metadata": {},
   "source": [
    "Dapat dilihat bahwa nilai score untuk data train dan data test memiliki hasil yang buruk"
   ]
  },
  {
   "cell_type": "markdown",
   "metadata": {},
   "source": [
    "## Evaluating"
   ]
  },
  {
   "cell_type": "code",
   "execution_count": 49,
   "metadata": {
    "id": "03UMDuCj5zsR"
   },
   "outputs": [],
   "source": [
    "from sklearn import metrics"
   ]
  },
  {
   "cell_type": "code",
   "execution_count": 52,
   "metadata": {
    "id": "LxsSnYLx49kc"
   },
   "outputs": [],
   "source": [
    "#mencoba nilai estimator dari nilai 1 sampai 150\n",
    "\n",
    "r2 = []\n",
    "mse = []\n",
    "for i in range(1, 151):\n",
    "    rf=RandomForestRegressor(n_estimators=i, random_state=178)\n",
    "    rf.fit(x_train,y_train)\n",
    "    y_pred = rf.predict(x_test)\n",
    "    r2.append(rf.score(x_test,y_test))\n",
    "    mse.append(metrics.mean_squared_error(y_test, y_pred))"
   ]
  },
  {
   "cell_type": "code",
   "execution_count": 53,
   "metadata": {
    "colab": {
     "base_uri": "https://localhost:8080/",
     "height": 279
    },
    "id": "zmRLSQJf49ke",
    "outputId": "2f9f9e90-ffb5-493b-d578-91f1ca2cdb78"
   },
   "outputs": [
    {
     "data": {
      "image/png": "[encoded data removed]",
      "text/plain": [
       "<Figure size 432x288 with 1 Axes>"
      ]
     },
     "metadata": {
      "needs_background": "light",
      "tags": []
     },
     "output_type": "display_data"
    }
   ],
   "source": [
    "#menampilkan hasil r^2 berdasarkan nilai estimator\n",
    "\n",
    "plt.plot(range(1, 151), r2)\n",
    "plt.xlabel(\"Estimators\")\n",
    "plt.ylabel('r squared')\n",
    "plt.show()"
   ]
  },
  {
   "cell_type": "code",
   "execution_count": 54,
   "metadata": {
    "colab": {
     "base_uri": "https://localhost:8080/",
     "height": 279
    },
    "id": "1d62bYAz49kh",
    "outputId": "83ed1c18-bccb-412b-bece-b4042d7f63c9"
   },
   "outputs": [
    {
     "data": {
      "image/png": "[encoded data removed]",
      "text/plain": [
       "<Figure size 432x288 with 1 Axes>"
      ]
     },
     "metadata": {
      "needs_background": "light",
      "tags": []
     },
     "output_type": "display_data"
    }
   ],
   "source": [
    "#menampilkan hasil mse berdasarkan nilai estimator\n",
    "\n",
    "plt.plot(range(1, 151), mse)\n",
    "plt.xlabel(\"Estimators\")\n",
    "plt.ylabel('MSE')\n",
    "plt.show()"
   ]
  },
  {
   "cell_type": "code",
   "execution_count": 55,
   "metadata": {
    "colab": {
     "base_uri": "https://localhost:8080/",
     "height": 51
    },
    "id": "jJfBjRb249kk",
    "outputId": "75143f82-fd77-42d7-ec78-21d034676812",
    "scrolled": true
   },
   "outputs": [
    {
     "name": "stdout",
     "output_type": "stream",
     "text": [
      "81\n",
      "81\n"
     ]
    }
   ],
   "source": [
    "#mengetahui nilai estimator terbaik\n",
    "\n",
    "print(r2.index(max(r2)))\n",
    "print(mse.index(min(mse)))\n",
    "\n",
    "best_estimator = mse.index(min(mse))"
   ]
  },
  {
   "cell_type": "markdown",
   "metadata": {},
   "source": [
    "Setelah mendapatkan nilai estimator terbaik, kemudian dilakukan modeling ulang"
   ]
  },
  {
   "cell_type": "code",
   "execution_count": 56,
   "metadata": {
    "colab": {
     "base_uri": "https://localhost:8080/",
     "height": 136
    },
    "id": "FAgchiVt49kn",
    "outputId": "1deba5a3-ef4a-4bb1-f399-cb508817c163"
   },
   "outputs": [
    {
     "data": {
      "text/plain": [
       "RandomForestRegressor(bootstrap=True, ccp_alpha=0.0, criterion='mse',\n",
       "                      max_depth=None, max_features='auto', max_leaf_nodes=None,\n",
       "                      max_samples=None, min_impurity_decrease=0.0,\n",
       "                      min_impurity_split=None, min_samples_leaf=1,\n",
       "                      min_samples_split=2, min_weight_fraction_leaf=0.0,\n",
       "                      n_estimators=81, n_jobs=None, oob_score=False,\n",
       "                      random_state=178, verbose=0, warm_start=False)"
      ]
     },
     "execution_count": 56,
     "metadata": {
      "tags": []
     },
     "output_type": "execute_result"
    }
   ],
   "source": [
    "rf = RandomForestRegressor(n_estimators=best_estimator, random_state=178)\n",
    "rf.fit(x_train, y_train)"
   ]
  },
  {
   "cell_type": "code",
   "execution_count": 57,
   "metadata": {
    "colab": {
     "base_uri": "https://localhost:8080/",
     "height": 51
    },
    "id": "OOS_6VbH49kr",
    "outputId": "524b17d3-9e5d-4aec-f62b-0973dce998d8",
    "scrolled": true
   },
   "outputs": [
    {
     "name": "stdout",
     "output_type": "stream",
     "text": [
      "0.919873873200112\n",
      "0.6745440632744559\n"
     ]
    }
   ],
   "source": [
    "print(rf.score(x_train, y_train))\n",
    "print(rf.score(x_test, y_test))"
   ]
  },
  {
   "cell_type": "markdown",
   "metadata": {},
   "source": [
    "Dari hasil di atas, dapat dilihat model menghasilkan score dengan nilai yang dapat diterima"
   ]
  },
  {
   "cell_type": "markdown",
   "metadata": {},
   "source": [
    "## Hasil Prediksi"
   ]
  },
  {
   "cell_type": "code",
   "execution_count": 58,
   "metadata": {
    "id": "Pu0Xt7Mt49ku"
   },
   "outputs": [],
   "source": [
    "#mengambil data pada 30 hari terkahir dan dilakukan prediksi nilai jumlah order\n",
    "\n",
    "X_30=X[-30:]\n",
    "predict = rf.predict(X_30)"
   ]
  },
  {
   "cell_type": "code",
   "execution_count": 60,
   "metadata": {
    "colab": {
     "base_uri": "https://localhost:8080/",
     "height": 360
    },
    "id": "_Y7axeYB49k0",
    "outputId": "5f2fb584-efe6-4bd9-d0d1-b764b9597b8c",
    "scrolled": true
   },
   "outputs": [
    {
     "data": {
      "text/html": [
       "<div>\n",
       "<style scoped>\n",
       "    .dataframe tbody tr th:only-of-type {\n",
       "        vertical-align: middle;\n",
       "    }\n",
       "\n",
       "    .dataframe tbody tr th {\n",
       "        vertical-align: top;\n",
       "    }\n",
       "\n",
       "    .dataframe thead th {\n",
       "        text-align: right;\n",
       "    }\n",
       "</style>\n",
       "<table border=\"1\" class=\"dataframe\">\n",
       "  <thead>\n",
       "    <tr style=\"text-align: right;\">\n",
       "      <th></th>\n",
       "      <th>New Cases</th>\n",
       "      <th>New Deaths</th>\n",
       "      <th>New Recovered</th>\n",
       "      <th>Total Cases</th>\n",
       "      <th>Total Deaths</th>\n",
       "      <th>Total Recovered</th>\n",
       "      <th>Total Cases per Million</th>\n",
       "      <th>Total Deaths per Million</th>\n",
       "      <th>Case Fatality Rate</th>\n",
       "      <th>Case Recovered Rate</th>\n",
       "      <th>bike</th>\n",
       "      <th>food</th>\n",
       "      <th>shop</th>\n",
       "      <th>car</th>\n",
       "      <th>total</th>\n",
       "      <th>rate</th>\n",
       "      <th>total_30d</th>\n",
       "      <th>Prediction</th>\n",
       "    </tr>\n",
       "  </thead>\n",
       "  <tbody>\n",
       "    <tr>\n",
       "      <th>2020-04-18</th>\n",
       "      <td>0.0</td>\n",
       "      <td>0.0</td>\n",
       "      <td>0.0</td>\n",
       "      <td>21.0</td>\n",
       "      <td>3.0</td>\n",
       "      <td>6.0</td>\n",
       "      <td>3.87</td>\n",
       "      <td>0.55</td>\n",
       "      <td>14.29%</td>\n",
       "      <td>28.57%</td>\n",
       "      <td>2.0</td>\n",
       "      <td>2.0</td>\n",
       "      <td>0.0</td>\n",
       "      <td>1.0</td>\n",
       "      <td>5.0</td>\n",
       "      <td>-0.285714</td>\n",
       "      <td>2.0</td>\n",
       "      <td>NaN</td>\n",
       "    </tr>\n",
       "    <tr>\n",
       "      <th>2020-04-19</th>\n",
       "      <td>0.0</td>\n",
       "      <td>0.0</td>\n",
       "      <td>0.0</td>\n",
       "      <td>21.0</td>\n",
       "      <td>3.0</td>\n",
       "      <td>6.0</td>\n",
       "      <td>3.87</td>\n",
       "      <td>0.55</td>\n",
       "      <td>14.29%</td>\n",
       "      <td>28.57%</td>\n",
       "      <td>2.0</td>\n",
       "      <td>0.0</td>\n",
       "      <td>0.0</td>\n",
       "      <td>0.0</td>\n",
       "      <td>2.0</td>\n",
       "      <td>-0.600000</td>\n",
       "      <td>4.0</td>\n",
       "      <td>NaN</td>\n",
       "    </tr>\n",
       "    <tr>\n",
       "      <th>2020-04-20</th>\n",
       "      <td>0.0</td>\n",
       "      <td>0.0</td>\n",
       "      <td>0.0</td>\n",
       "      <td>21.0</td>\n",
       "      <td>3.0</td>\n",
       "      <td>6.0</td>\n",
       "      <td>3.87</td>\n",
       "      <td>0.55</td>\n",
       "      <td>14.29%</td>\n",
       "      <td>28.57%</td>\n",
       "      <td>2.0</td>\n",
       "      <td>1.0</td>\n",
       "      <td>1.0</td>\n",
       "      <td>1.0</td>\n",
       "      <td>5.0</td>\n",
       "      <td>1.500000</td>\n",
       "      <td>6.0</td>\n",
       "      <td>NaN</td>\n",
       "    </tr>\n",
       "    <tr>\n",
       "      <th>2020-04-21</th>\n",
       "      <td>6.0</td>\n",
       "      <td>0.0</td>\n",
       "      <td>1.0</td>\n",
       "      <td>27.0</td>\n",
       "      <td>3.0</td>\n",
       "      <td>7.0</td>\n",
       "      <td>4.98</td>\n",
       "      <td>0.55</td>\n",
       "      <td>11.11%</td>\n",
       "      <td>25.93%</td>\n",
       "      <td>2.0</td>\n",
       "      <td>0.0</td>\n",
       "      <td>0.0</td>\n",
       "      <td>1.0</td>\n",
       "      <td>3.0</td>\n",
       "      <td>-0.400000</td>\n",
       "      <td>4.0</td>\n",
       "      <td>NaN</td>\n",
       "    </tr>\n",
       "    <tr>\n",
       "      <th>2020-04-22</th>\n",
       "      <td>4.0</td>\n",
       "      <td>0.0</td>\n",
       "      <td>1.0</td>\n",
       "      <td>31.0</td>\n",
       "      <td>3.0</td>\n",
       "      <td>8.0</td>\n",
       "      <td>5.72</td>\n",
       "      <td>0.55</td>\n",
       "      <td>9.68%</td>\n",
       "      <td>25.81%</td>\n",
       "      <td>0.0</td>\n",
       "      <td>0.0</td>\n",
       "      <td>1.0</td>\n",
       "      <td>1.0</td>\n",
       "      <td>2.0</td>\n",
       "      <td>-0.333333</td>\n",
       "      <td>3.0</td>\n",
       "      <td>NaN</td>\n",
       "    </tr>\n",
       "  </tbody>\n",
       "</table>\n",
       "</div>"
      ],
      "text/plain": [
       "            New Cases  New Deaths  ...  total_30d  Prediction\n",
       "2020-04-18        0.0         0.0  ...        2.0         NaN\n",
       "2020-04-19        0.0         0.0  ...        4.0         NaN\n",
       "2020-04-20        0.0         0.0  ...        6.0         NaN\n",
       "2020-04-21        6.0         0.0  ...        4.0         NaN\n",
       "2020-04-22        4.0         0.0  ...        3.0         NaN\n",
       "\n",
       "[5 rows x 18 columns]"
      ]
     },
     "execution_count": 60,
     "metadata": {
      "tags": []
     },
     "output_type": "execute_result"
    }
   ],
   "source": [
    "#memasukkan nilai prediksi ke dalam dataframe data\n",
    "\n",
    "from datetime import datetime, timedelta\n",
    "last_date=data.iloc[-1].name\n",
    "modified_date = last_date + timedelta(days=1)\n",
    "date=pd.date_range(modified_date,periods=30,freq='D')\n",
    "df1=pd.DataFrame(predict,columns=['Prediction'],index=date)\n",
    "data=data.append(df1)\n",
    "data.head()"
   ]
  },
  {
   "cell_type": "code",
   "execution_count": 61,
   "metadata": {
    "colab": {
     "base_uri": "https://localhost:8080/",
     "height": 403
    },
    "id": "QsA3vydC49k9",
    "outputId": "3de46e2b-0279-4dd3-cf97-3a1d0b60c12f",
    "scrolled": true
   },
   "outputs": [
    {
     "data": {
      "text/plain": [
       "<matplotlib.legend.Legend at 0x7fc0acd10c50>"
      ]
     },
     "execution_count": 61,
     "metadata": {
      "tags": []
     },
     "output_type": "execute_result"
    },
    {
     "data": {
      "image/png": "[encoded data removed]",
      "text/plain": [
       "<Figure size 864x432 with 1 Axes>"
      ]
     },
     "metadata": {
      "needs_background": "light",
      "tags": []
     },
     "output_type": "display_data"
    }
   ],
   "source": [
    "#melihat hasil prediksi\n",
    "\n",
    "data['total'].plot(figsize=(12,6),label='Total Order Gojek')\n",
    "data['Prediction'].plot(label='Prediksi Total Order Gojek')\n",
    "plt.legend()"
   ]
  },
  {
   "cell_type": "markdown",
   "metadata": {},
   "source": [
    "Dari hasil grafik di atas, diketahui bahwa nilai prediksi tidak memiliki perbedaan signifikan dengan nilai order periode sebelumnya. Hasil ini dapat digunakan untuk pertimbangan pada keputusan yang diambil oleh tim Business Development Gojek."
   ]
  }
 ],
 "metadata": {
  "colab": {
   "collapsed_sections": [],
   "name": "Untitled.ipynb",
   "provenance": []
  },
  "kernelspec": {
   "display_name": "Python 3",
   "language": "python",
   "name": "python3"
  },
  "language_info": {
   "codemirror_mode": {
    "name": "ipython",
    "version": 3
   },
   "file_extension": ".py",
   "mimetype": "text/x-python",
   "name": "python",
   "nbconvert_exporter": "python",
   "pygments_lexer": "ipython3",
   "version": "3.7.6"
  }
 },
 "nbformat": 4,
 "nbformat_minor": 1
}
